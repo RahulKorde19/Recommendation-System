{
 "cells": [
  {
   "cell_type": "markdown",
   "metadata": {},
   "source": [
    "# Recommendation System for Retail Customer—A Hands-On Example Using Tensorrec Python Module\n",
    "\n",
    "by Taufik Azri"
   ]
  },
  {
   "cell_type": "code",
   "execution_count": 1,
   "metadata": {},
   "outputs": [
    {
     "name": "stdout",
     "output_type": "stream",
     "text": [
      "Defaulting to user installation because normal site-packages is not writeable\n",
      "Requirement already satisfied: pip in /Users/mrunalkorde/Library/Python/3.9/lib/python/site-packages (24.0)\n",
      "Note: you may need to restart the kernel to use updated packages.\n",
      "zsh:1: no such file or directory: 2.0\n",
      "Note: you may need to restart the kernel to use updated packages.\n"
     ]
    }
   ],
   "source": [
    "# %pip install numpy\n",
    "# %pip install pandas\n",
    "# %pip install tensorflow\n",
    "# %pip install tensorflow keras\n",
    "# %pip install matplotlib\n",
    "# %pip install seaborn\n",
    "# %pip install scikit-learn\n",
    "%pip install --upgrade pip\n",
    "# %pip install tensorrec\n",
    "%pip install tensorflow<2.0\n",
    "\n"
   ]
  },
  {
   "cell_type": "markdown",
   "metadata": {},
   "source": [
    "This example will use a dataset available here: \n",
    "https://www.kaggle.com/darpan25bajaj/retail-case-study-data#prod_cat_info.csv\n",
    "\n",
    "Info and installation of Tensorrec module is here: https://github.com/jfkirk/tensorrec "
   ]
  },
  {
   "cell_type": "code",
   "execution_count": 2,
   "metadata": {
    "ExecuteTime": {
     "end_time": "2020-04-02T16:22:36.054847Z",
     "start_time": "2020-04-02T16:22:26.521341Z"
    }
   },
   "outputs": [
    {
     "name": "stderr",
     "output_type": "stream",
     "text": [
      "/Users/mrunalkorde/Library/Python/3.9/lib/python/site-packages/urllib3/__init__.py:35: NotOpenSSLWarning: urllib3 v2 only supports OpenSSL 1.1.1+, currently the 'ssl' module is compiled with 'LibreSSL 2.8.3'. See: https://github.com/urllib3/urllib3/issues/3020\n",
      "  warnings.warn(\n"
     ]
    }
   ],
   "source": [
    "# Import the standard packages normally utilize by Data Scientist\n",
    "import numpy as np\n",
    "import pandas as pd\n",
    "import pickle\n",
    "import keras as ks\n",
    "\n",
    "\n",
    "\n",
    "import matplotlib.pyplot as plt\n",
    "import seaborn as sns\n",
    "sns.set_style('whitegrid')\n",
    "%matplotlib inline\n",
    "\n",
    "from sklearn.cluster import KMeans\n",
    "from sklearn import preprocessing\n",
    "from collections import Counter\n",
    "import scipy.sparse as sparse\n",
    "\n",
    "# os is a handy module to explore operating system directory\n",
    "import os\n",
    "\n",
    "# import keras as the Tensorflow engine uses Keras Neural Net backend\n",
    "\n",
    "\n",
    "# Import Tensorrec recommendation packages\n",
    "import tensorrec\n",
    "from tensorrec import TensorRec\n",
    "from tensorrec.eval import *\n",
    "from tensorrec.util import append_to_string_at_point\n",
    "\n",
    "### the rest of these representation graphs are also available as an alternative\n",
    "### feel free to play around to tune up the model\n",
    "from tensorrec.representation_graphs import (AbstractKerasRepresentationGraph, \n",
    "#                                              ReLURepresentationGraph, \n",
    "                                             NormalizedLinearRepresentationGraph, \n",
    "#                                              LinearRepresentationGraph\n",
    "                                            )\n",
    "\n",
    "from tensorrec.loss_graphs import (WMRBLossGraph, \n",
    "#                                    BalancedWMRBLossGraph,\n",
    "#                                    RMSELossGraph, \n",
    "#                                    RMSEDenseLossGraph, \n",
    "#                                    SeparationDenseLossGraph\n",
    "                                  ) \n",
    "\n",
    "from tensorrec.eval import fit_and_eval, eval_random_ranks_on_dataset\n",
    "from tensorrec.util import append_to_string_at_point\n",
    "\n",
    "from tensorflow.keras.callbacks import LearningRateScheduler\n",
    "\n",
    "\n",
    "### we need to construct a Keras representation graph by inheriting tensorrec.representation_graphs.AbstractKerasRepresentationGraph\n",
    "### https://www.tensorflow.org/tensorboard/graphs\n",
    "### many thanks to James Kirk for his article: \n",
    "### https://medium.com/hackernoon/deep-learning-for-recommendation-with-keras-and-tensorrec-2b8935c795d0\n",
    "\n",
    "class DeepRepresentationGraph(AbstractKerasRepresentationGraph):\n",
    "\n",
    "    # This method returns an ordered list of Keras layers connecting the user/item features to the user/item\n",
    "    # representation. When TensorRec learns, the learning will happen in these layers.\n",
    "    def create_layers(self, n_features, n_components):\n",
    "        return [\n",
    "            ks.layers.Dense(n_components * 16, activation='relu'), #rectified linear unit\n",
    "            ks.layers.Dense(n_components * 8, activation='relu'), #you can try other activation layer too\n",
    "            ks.layers.Dense(n_components * 2, activation='relu'), #most likely changes only benefit other ML like image recog.\n",
    "            ks.layers.Dense(n_components, activation='tanh'),\n",
    "        ]"
   ]
  },
  {
   "cell_type": "markdown",
   "metadata": {},
   "source": [
    "Import the data manually from Kaggle and save it somewhere in the directory\n",
    "\n",
    "The dowloaded data contains three separate csv files: Customer, prod_cat_info, and Transaction. We will refer the Transaction.csv as the master data, which we will append the relevant customer and product information from Customer.csv before we insert them into the engine."
   ]
  },
  {
   "cell_type": "code",
   "execution_count": 3,
   "metadata": {
    "ExecuteTime": {
     "end_time": "2020-04-02T16:22:36.064733Z",
     "start_time": "2020-04-02T16:22:36.056830Z"
    }
   },
   "outputs": [
    {
     "data": {
      "text/plain": [
       "['myvenv',\n",
       " 'Recommendation Engine.ipynb',\n",
       " 'Customer.csv',\n",
       " 'README.md',\n",
       " 'prod_cat_info.csv',\n",
       " 'Transactions.csv',\n",
       " '.git']"
      ]
     },
     "execution_count": 3,
     "metadata": {},
     "output_type": "execute_result"
    }
   ],
   "source": [
    "### use os.listdir to explore the files inside directory\n",
    "os.listdir('../Recommendation-System')"
   ]
  },
  {
   "cell_type": "markdown",
   "metadata": {},
   "source": [
    "# Data Preparation"
   ]
  },
  {
   "cell_type": "code",
   "execution_count": 4,
   "metadata": {
    "ExecuteTime": {
     "end_time": "2020-04-02T16:22:36.157023Z",
     "start_time": "2020-04-02T16:22:36.069730Z"
    },
    "scrolled": true
   },
   "outputs": [
    {
     "data": {
      "text/html": [
       "<div>\n",
       "<style scoped>\n",
       "    .dataframe tbody tr th:only-of-type {\n",
       "        vertical-align: middle;\n",
       "    }\n",
       "\n",
       "    .dataframe tbody tr th {\n",
       "        vertical-align: top;\n",
       "    }\n",
       "\n",
       "    .dataframe thead th {\n",
       "        text-align: right;\n",
       "    }\n",
       "</style>\n",
       "<table border=\"1\" class=\"dataframe\">\n",
       "  <thead>\n",
       "    <tr style=\"text-align: right;\">\n",
       "      <th></th>\n",
       "      <th>transaction_id</th>\n",
       "      <th>cust_id</th>\n",
       "      <th>tran_date</th>\n",
       "      <th>prod_subcat_code</th>\n",
       "      <th>prod_cat_code</th>\n",
       "      <th>Qty</th>\n",
       "      <th>Rate</th>\n",
       "      <th>Tax</th>\n",
       "      <th>total_amt</th>\n",
       "      <th>Store_type</th>\n",
       "    </tr>\n",
       "  </thead>\n",
       "  <tbody>\n",
       "    <tr>\n",
       "      <th>0</th>\n",
       "      <td>80712190438</td>\n",
       "      <td>270351</td>\n",
       "      <td>28-02-2014</td>\n",
       "      <td>1</td>\n",
       "      <td>1</td>\n",
       "      <td>-5</td>\n",
       "      <td>-772</td>\n",
       "      <td>405.300</td>\n",
       "      <td>-4265.300</td>\n",
       "      <td>e-Shop</td>\n",
       "    </tr>\n",
       "    <tr>\n",
       "      <th>1</th>\n",
       "      <td>29258453508</td>\n",
       "      <td>270384</td>\n",
       "      <td>27-02-2014</td>\n",
       "      <td>5</td>\n",
       "      <td>3</td>\n",
       "      <td>-5</td>\n",
       "      <td>-1497</td>\n",
       "      <td>785.925</td>\n",
       "      <td>-8270.925</td>\n",
       "      <td>e-Shop</td>\n",
       "    </tr>\n",
       "    <tr>\n",
       "      <th>2</th>\n",
       "      <td>51750724947</td>\n",
       "      <td>273420</td>\n",
       "      <td>24-02-2014</td>\n",
       "      <td>6</td>\n",
       "      <td>5</td>\n",
       "      <td>-2</td>\n",
       "      <td>-791</td>\n",
       "      <td>166.110</td>\n",
       "      <td>-1748.110</td>\n",
       "      <td>TeleShop</td>\n",
       "    </tr>\n",
       "    <tr>\n",
       "      <th>3</th>\n",
       "      <td>93274880719</td>\n",
       "      <td>271509</td>\n",
       "      <td>24-02-2014</td>\n",
       "      <td>11</td>\n",
       "      <td>6</td>\n",
       "      <td>-3</td>\n",
       "      <td>-1363</td>\n",
       "      <td>429.345</td>\n",
       "      <td>-4518.345</td>\n",
       "      <td>e-Shop</td>\n",
       "    </tr>\n",
       "    <tr>\n",
       "      <th>4</th>\n",
       "      <td>51750724947</td>\n",
       "      <td>273420</td>\n",
       "      <td>23-02-2014</td>\n",
       "      <td>6</td>\n",
       "      <td>5</td>\n",
       "      <td>-2</td>\n",
       "      <td>-791</td>\n",
       "      <td>166.110</td>\n",
       "      <td>-1748.110</td>\n",
       "      <td>TeleShop</td>\n",
       "    </tr>\n",
       "  </tbody>\n",
       "</table>\n",
       "</div>"
      ],
      "text/plain": [
       "   transaction_id  cust_id   tran_date  prod_subcat_code  prod_cat_code  Qty  \\\n",
       "0     80712190438   270351  28-02-2014                 1              1   -5   \n",
       "1     29258453508   270384  27-02-2014                 5              3   -5   \n",
       "2     51750724947   273420  24-02-2014                 6              5   -2   \n",
       "3     93274880719   271509  24-02-2014                11              6   -3   \n",
       "4     51750724947   273420  23-02-2014                 6              5   -2   \n",
       "\n",
       "   Rate      Tax  total_amt Store_type  \n",
       "0  -772  405.300  -4265.300     e-Shop  \n",
       "1 -1497  785.925  -8270.925     e-Shop  \n",
       "2  -791  166.110  -1748.110   TeleShop  \n",
       "3 -1363  429.345  -4518.345     e-Shop  \n",
       "4  -791  166.110  -1748.110   TeleShop  "
      ]
     },
     "execution_count": 4,
     "metadata": {},
     "output_type": "execute_result"
    }
   ],
   "source": [
    "#### MASTER DATA, a.k.a Interaction\n",
    "\n",
    "#### Import the master data, a.k.a transaction data\n",
    "masterdf = pd.read_csv('../Recommendation-System/Transactions.csv')\n",
    "masterdf.head()"
   ]
  },
  {
   "cell_type": "code",
   "execution_count": 5,
   "metadata": {
    "ExecuteTime": {
     "end_time": "2020-04-02T16:23:07.062546Z",
     "start_time": "2020-04-02T16:23:07.055108Z"
    }
   },
   "outputs": [],
   "source": [
    "### rename the columns for data cleanliness and standardization.\n",
    "### Standardization will align the column name across tables for ease of merging\n",
    "\n",
    "masterdf.columns = ['Transaction ID', 'Customer ID', 'Transaction Date', 'Prod Subcat Code',\n",
    "       'Prod Cat Code', 'Qty', 'Rate', 'Tax', 'Total Amt', 'Store Type']"
   ]
  },
  {
   "cell_type": "code",
   "execution_count": 6,
   "metadata": {
    "ExecuteTime": {
     "end_time": "2020-04-02T16:23:07.378996Z",
     "start_time": "2020-04-02T16:23:07.342788Z"
    }
   },
   "outputs": [
    {
     "data": {
      "text/html": [
       "<div>\n",
       "<style scoped>\n",
       "    .dataframe tbody tr th:only-of-type {\n",
       "        vertical-align: middle;\n",
       "    }\n",
       "\n",
       "    .dataframe tbody tr th {\n",
       "        vertical-align: top;\n",
       "    }\n",
       "\n",
       "    .dataframe thead th {\n",
       "        text-align: right;\n",
       "    }\n",
       "</style>\n",
       "<table border=\"1\" class=\"dataframe\">\n",
       "  <thead>\n",
       "    <tr style=\"text-align: right;\">\n",
       "      <th></th>\n",
       "      <th>Transaction ID</th>\n",
       "      <th>Customer ID</th>\n",
       "      <th>Transaction Date</th>\n",
       "      <th>Prod Subcat Code</th>\n",
       "      <th>Prod Cat Code</th>\n",
       "      <th>Qty</th>\n",
       "      <th>Rate</th>\n",
       "      <th>Tax</th>\n",
       "      <th>Total Amt</th>\n",
       "      <th>Store Type</th>\n",
       "      <th>Store Type Code</th>\n",
       "    </tr>\n",
       "  </thead>\n",
       "  <tbody>\n",
       "    <tr>\n",
       "      <th>0</th>\n",
       "      <td>80712190438</td>\n",
       "      <td>270351</td>\n",
       "      <td>28-02-2014</td>\n",
       "      <td>1</td>\n",
       "      <td>1</td>\n",
       "      <td>-5</td>\n",
       "      <td>-772</td>\n",
       "      <td>405.300</td>\n",
       "      <td>-4265.300</td>\n",
       "      <td>e-Shop</td>\n",
       "      <td>0</td>\n",
       "    </tr>\n",
       "    <tr>\n",
       "      <th>1</th>\n",
       "      <td>29258453508</td>\n",
       "      <td>270384</td>\n",
       "      <td>27-02-2014</td>\n",
       "      <td>5</td>\n",
       "      <td>3</td>\n",
       "      <td>-5</td>\n",
       "      <td>-1497</td>\n",
       "      <td>785.925</td>\n",
       "      <td>-8270.925</td>\n",
       "      <td>e-Shop</td>\n",
       "      <td>0</td>\n",
       "    </tr>\n",
       "    <tr>\n",
       "      <th>2</th>\n",
       "      <td>51750724947</td>\n",
       "      <td>273420</td>\n",
       "      <td>24-02-2014</td>\n",
       "      <td>6</td>\n",
       "      <td>5</td>\n",
       "      <td>-2</td>\n",
       "      <td>-791</td>\n",
       "      <td>166.110</td>\n",
       "      <td>-1748.110</td>\n",
       "      <td>TeleShop</td>\n",
       "      <td>1</td>\n",
       "    </tr>\n",
       "    <tr>\n",
       "      <th>3</th>\n",
       "      <td>93274880719</td>\n",
       "      <td>271509</td>\n",
       "      <td>24-02-2014</td>\n",
       "      <td>11</td>\n",
       "      <td>6</td>\n",
       "      <td>-3</td>\n",
       "      <td>-1363</td>\n",
       "      <td>429.345</td>\n",
       "      <td>-4518.345</td>\n",
       "      <td>e-Shop</td>\n",
       "      <td>0</td>\n",
       "    </tr>\n",
       "    <tr>\n",
       "      <th>4</th>\n",
       "      <td>51750724947</td>\n",
       "      <td>273420</td>\n",
       "      <td>23-02-2014</td>\n",
       "      <td>6</td>\n",
       "      <td>5</td>\n",
       "      <td>-2</td>\n",
       "      <td>-791</td>\n",
       "      <td>166.110</td>\n",
       "      <td>-1748.110</td>\n",
       "      <td>TeleShop</td>\n",
       "      <td>1</td>\n",
       "    </tr>\n",
       "  </tbody>\n",
       "</table>\n",
       "</div>"
      ],
      "text/plain": [
       "   Transaction ID  Customer ID Transaction Date  Prod Subcat Code  \\\n",
       "0     80712190438       270351       28-02-2014                 1   \n",
       "1     29258453508       270384       27-02-2014                 5   \n",
       "2     51750724947       273420       24-02-2014                 6   \n",
       "3     93274880719       271509       24-02-2014                11   \n",
       "4     51750724947       273420       23-02-2014                 6   \n",
       "\n",
       "   Prod Cat Code  Qty  Rate      Tax  Total Amt Store Type  Store Type Code  \n",
       "0              1   -5  -772  405.300  -4265.300     e-Shop                0  \n",
       "1              3   -5 -1497  785.925  -8270.925     e-Shop                0  \n",
       "2              5   -2  -791  166.110  -1748.110   TeleShop                1  \n",
       "3              6   -3 -1363  429.345  -4518.345     e-Shop                0  \n",
       "4              5   -2  -791  166.110  -1748.110   TeleShop                1  "
      ]
     },
     "execution_count": 6,
     "metadata": {},
     "output_type": "execute_result"
    }
   ],
   "source": [
    "### Categorize store type into numeric category and save it into a new column\n",
    "\n",
    "masterdf['Store Type Code'] = pd.factorize(masterdf['Store Type'])[0]\n",
    "masterdf.head(5)"
   ]
  },
  {
   "cell_type": "code",
   "execution_count": 7,
   "metadata": {
    "ExecuteTime": {
     "end_time": "2020-04-02T16:23:08.562959Z",
     "start_time": "2020-04-02T16:23:08.545607Z"
    }
   },
   "outputs": [
    {
     "data": {
      "text/html": [
       "<div>\n",
       "<style scoped>\n",
       "    .dataframe tbody tr th:only-of-type {\n",
       "        vertical-align: middle;\n",
       "    }\n",
       "\n",
       "    .dataframe tbody tr th {\n",
       "        vertical-align: top;\n",
       "    }\n",
       "\n",
       "    .dataframe thead th {\n",
       "        text-align: right;\n",
       "    }\n",
       "</style>\n",
       "<table border=\"1\" class=\"dataframe\">\n",
       "  <thead>\n",
       "    <tr style=\"text-align: right;\">\n",
       "      <th></th>\n",
       "      <th>Store Type</th>\n",
       "      <th>Store Type Code</th>\n",
       "    </tr>\n",
       "  </thead>\n",
       "  <tbody>\n",
       "    <tr>\n",
       "      <th>0</th>\n",
       "      <td>e-Shop</td>\n",
       "      <td>0</td>\n",
       "    </tr>\n",
       "    <tr>\n",
       "      <th>2</th>\n",
       "      <td>TeleShop</td>\n",
       "      <td>1</td>\n",
       "    </tr>\n",
       "    <tr>\n",
       "      <th>8</th>\n",
       "      <td>MBR</td>\n",
       "      <td>2</td>\n",
       "    </tr>\n",
       "    <tr>\n",
       "      <th>17</th>\n",
       "      <td>Flagship store</td>\n",
       "      <td>3</td>\n",
       "    </tr>\n",
       "  </tbody>\n",
       "</table>\n",
       "</div>"
      ],
      "text/plain": [
       "        Store Type  Store Type Code\n",
       "0           e-Shop                0\n",
       "2         TeleShop                1\n",
       "8              MBR                2\n",
       "17  Flagship store                3"
      ]
     },
     "execution_count": 7,
     "metadata": {},
     "output_type": "execute_result"
    }
   ],
   "source": [
    "### ensure the categorization is unique\n",
    "masterdf[['Store Type', 'Store Type Code']].drop_duplicates()"
   ]
  },
  {
   "cell_type": "code",
   "execution_count": 8,
   "metadata": {
    "ExecuteTime": {
     "end_time": "2020-04-02T16:23:09.062316Z",
     "start_time": "2020-04-02T16:23:09.000812Z"
    }
   },
   "outputs": [
    {
     "data": {
      "text/html": [
       "<div>\n",
       "<style scoped>\n",
       "    .dataframe tbody tr th:only-of-type {\n",
       "        vertical-align: middle;\n",
       "    }\n",
       "\n",
       "    .dataframe tbody tr th {\n",
       "        vertical-align: top;\n",
       "    }\n",
       "\n",
       "    .dataframe thead th {\n",
       "        text-align: right;\n",
       "    }\n",
       "</style>\n",
       "<table border=\"1\" class=\"dataframe\">\n",
       "  <thead>\n",
       "    <tr style=\"text-align: right;\">\n",
       "      <th></th>\n",
       "      <th>Customer ID</th>\n",
       "      <th>DOB</th>\n",
       "      <th>Gender</th>\n",
       "      <th>City Code</th>\n",
       "    </tr>\n",
       "  </thead>\n",
       "  <tbody>\n",
       "    <tr>\n",
       "      <th>0</th>\n",
       "      <td>268408</td>\n",
       "      <td>02-01-1970</td>\n",
       "      <td>M</td>\n",
       "      <td>4.0</td>\n",
       "    </tr>\n",
       "    <tr>\n",
       "      <th>1</th>\n",
       "      <td>269696</td>\n",
       "      <td>07-01-1970</td>\n",
       "      <td>F</td>\n",
       "      <td>8.0</td>\n",
       "    </tr>\n",
       "  </tbody>\n",
       "</table>\n",
       "</div>"
      ],
      "text/plain": [
       "   Customer ID         DOB Gender  City Code\n",
       "0       268408  02-01-1970      M        4.0\n",
       "1       269696  07-01-1970      F        8.0"
      ]
     },
     "execution_count": 8,
     "metadata": {},
     "output_type": "execute_result"
    }
   ],
   "source": [
    "#### CUSTOMER DATA a.k.a Customer Features\n",
    "\n",
    "custdf = pd.read_csv('../Recommendation-System/Customer.csv')\n",
    "custdf.columns = ['Customer ID', 'DOB', 'Gender', 'City Code']\n",
    "custdf.head(2)"
   ]
  },
  {
   "cell_type": "code",
   "execution_count": 9,
   "metadata": {
    "ExecuteTime": {
     "end_time": "2020-04-02T16:23:09.537981Z",
     "start_time": "2020-04-02T16:23:09.527566Z"
    }
   },
   "outputs": [
    {
     "data": {
      "text/plain": [
       "2"
      ]
     },
     "execution_count": 9,
     "metadata": {},
     "output_type": "execute_result"
    }
   ],
   "source": [
    "### how many null entries in the City Code?\n",
    "\n",
    "len(custdf[custdf['City Code'].isnull()])"
   ]
  },
  {
   "cell_type": "code",
   "execution_count": 10,
   "metadata": {
    "ExecuteTime": {
     "end_time": "2020-04-01T13:52:57.392881Z",
     "start_time": "2020-04-01T13:52:57.384449Z"
    }
   },
   "outputs": [
    {
     "data": {
      "text/plain": [
       "array([ 4.,  8.,  2.,  1.,  5.,  9.,  7., 10.,  6.,  3., nan])"
      ]
     },
     "execution_count": 10,
     "metadata": {},
     "output_type": "execute_result"
    }
   ],
   "source": [
    "## where does our customers come from?\n",
    "\n",
    "custdf['City Code'].unique()"
   ]
  },
  {
   "cell_type": "code",
   "execution_count": 11,
   "metadata": {
    "ExecuteTime": {
     "end_time": "2020-04-01T13:52:57.403794Z",
     "start_time": "2020-04-01T13:52:57.396353Z"
    }
   },
   "outputs": [
    {
     "data": {
      "text/plain": [
       "5647"
      ]
     },
     "execution_count": 11,
     "metadata": {},
     "output_type": "execute_result"
    }
   ],
   "source": [
    "## how many customers exist in the transaction?\n",
    "\n",
    "len(custdf['Customer ID'].unique())"
   ]
  },
  {
   "cell_type": "code",
   "execution_count": 12,
   "metadata": {
    "ExecuteTime": {
     "end_time": "2020-04-01T13:52:57.419172Z",
     "start_time": "2020-04-01T13:52:57.407265Z"
    }
   },
   "outputs": [
    {
     "data": {
      "text/plain": [
       "array(['e-Shop', 'TeleShop', 'MBR', 'Flagship store'], dtype=object)"
      ]
     },
     "execution_count": 12,
     "metadata": {},
     "output_type": "execute_result"
    }
   ],
   "source": [
    "## what kinds of store type?\n",
    "\n",
    "masterdf['Store Type'].unique()"
   ]
  },
  {
   "cell_type": "code",
   "execution_count": 13,
   "metadata": {
    "ExecuteTime": {
     "end_time": "2020-04-02T16:39:31.751365Z",
     "start_time": "2020-04-02T16:39:31.723554Z"
    },
    "scrolled": true
   },
   "outputs": [
    {
     "data": {
      "text/html": [
       "<div>\n",
       "<style scoped>\n",
       "    .dataframe tbody tr th:only-of-type {\n",
       "        vertical-align: middle;\n",
       "    }\n",
       "\n",
       "    .dataframe tbody tr th {\n",
       "        vertical-align: top;\n",
       "    }\n",
       "\n",
       "    .dataframe thead th {\n",
       "        text-align: right;\n",
       "    }\n",
       "</style>\n",
       "<table border=\"1\" class=\"dataframe\">\n",
       "  <thead>\n",
       "    <tr style=\"text-align: right;\">\n",
       "      <th></th>\n",
       "      <th>Prod Cat Code</th>\n",
       "      <th>Prod Cat</th>\n",
       "      <th>Prod Sub Cat Code</th>\n",
       "      <th>Prod Subcat</th>\n",
       "    </tr>\n",
       "  </thead>\n",
       "  <tbody>\n",
       "    <tr>\n",
       "      <th>0</th>\n",
       "      <td>1</td>\n",
       "      <td>Clothing</td>\n",
       "      <td>4</td>\n",
       "      <td>Mens</td>\n",
       "    </tr>\n",
       "    <tr>\n",
       "      <th>1</th>\n",
       "      <td>1</td>\n",
       "      <td>Clothing</td>\n",
       "      <td>1</td>\n",
       "      <td>Women</td>\n",
       "    </tr>\n",
       "    <tr>\n",
       "      <th>2</th>\n",
       "      <td>1</td>\n",
       "      <td>Clothing</td>\n",
       "      <td>3</td>\n",
       "      <td>Kids</td>\n",
       "    </tr>\n",
       "    <tr>\n",
       "      <th>3</th>\n",
       "      <td>2</td>\n",
       "      <td>Footwear</td>\n",
       "      <td>1</td>\n",
       "      <td>Mens</td>\n",
       "    </tr>\n",
       "    <tr>\n",
       "      <th>4</th>\n",
       "      <td>2</td>\n",
       "      <td>Footwear</td>\n",
       "      <td>3</td>\n",
       "      <td>Women</td>\n",
       "    </tr>\n",
       "  </tbody>\n",
       "</table>\n",
       "</div>"
      ],
      "text/plain": [
       "   Prod Cat Code  Prod Cat  Prod Sub Cat Code Prod Subcat\n",
       "0              1  Clothing                  4        Mens\n",
       "1              1  Clothing                  1       Women\n",
       "2              1  Clothing                  3        Kids\n",
       "3              2  Footwear                  1        Mens\n",
       "4              2  Footwear                  3       Women"
      ]
     },
     "execution_count": 13,
     "metadata": {},
     "output_type": "execute_result"
    }
   ],
   "source": [
    "## load item feature\n",
    "\n",
    "skudf = pd.read_csv('../Recommendation-System/prod_cat_info.csv')\n",
    "skudf.columns = ['Prod Cat Code', 'Prod Cat', 'Prod Sub Cat Code', 'Prod Subcat']\n",
    "skudf.head()"
   ]
  },
  {
   "cell_type": "markdown",
   "metadata": {},
   "source": [
    "Looks like there is not much info on the product, except the key-value for each category and subcategory."
   ]
  },
  {
   "cell_type": "markdown",
   "metadata": {},
   "source": [
    "# RFMV"
   ]
  },
  {
   "cell_type": "code",
   "execution_count": 14,
   "metadata": {
    "ExecuteTime": {
     "end_time": "2020-04-02T16:26:39.307585Z",
     "start_time": "2020-04-02T16:26:37.645528Z"
    }
   },
   "outputs": [],
   "source": [
    "## standardize transaction date into pandas datetime index\n",
    "masterdf['Date'] =  pd.DatetimeIndex(masterdf['Transaction Date'], dayfirst=True).date"
   ]
  },
  {
   "cell_type": "code",
   "execution_count": 15,
   "metadata": {
    "ExecuteTime": {
     "end_time": "2020-04-02T16:26:39.320027Z",
     "start_time": "2020-04-02T16:26:39.309572Z"
    }
   },
   "outputs": [
    {
     "name": "stdout",
     "output_type": "stream",
     "text": [
      "2011-01-25\n",
      "2014-02-28\n"
     ]
    },
    {
     "data": {
      "text/plain": [
       "(None, None)"
      ]
     },
     "execution_count": 15,
     "metadata": {},
     "output_type": "execute_result"
    }
   ],
   "source": [
    "### what was the first transaction? the last one?\n",
    "\n",
    "print(masterdf['Date'].min()), print(masterdf['Date'].max())"
   ]
  },
  {
   "cell_type": "code",
   "execution_count": 16,
   "metadata": {
    "ExecuteTime": {
     "end_time": "2020-04-02T16:27:15.592354Z",
     "start_time": "2020-04-02T16:27:15.560112Z"
    }
   },
   "outputs": [],
   "source": [
    "### calculate total net sales from quantity and based price (minus Tax, as it may be different from city to city)\n",
    "masterdf['Net Sales'] = masterdf['Qty'] * masterdf['Rate']"
   ]
  },
  {
   "cell_type": "code",
   "execution_count": 17,
   "metadata": {
    "ExecuteTime": {
     "end_time": "2020-04-02T16:27:17.131583Z",
     "start_time": "2020-04-02T16:27:17.094827Z"
    },
    "scrolled": true
   },
   "outputs": [],
   "source": [
    "### get unique material indicator from the category, subcategory, and the store type\n",
    "### assuming different sku is sold to different store type\n",
    "\n",
    "masterdf['Material'] = masterdf['Prod Cat Code'].astype(str) + '-' + masterdf['Prod Subcat Code'].astype(str) + '-' + masterdf['Store Type'].astype(str)"
   ]
  },
  {
   "cell_type": "code",
   "execution_count": 18,
   "metadata": {
    "ExecuteTime": {
     "end_time": "2020-04-02T16:27:17.579553Z",
     "start_time": "2020-04-02T16:27:17.560210Z"
    }
   },
   "outputs": [
    {
     "data": {
      "text/html": [
       "<div>\n",
       "<style scoped>\n",
       "    .dataframe tbody tr th:only-of-type {\n",
       "        vertical-align: middle;\n",
       "    }\n",
       "\n",
       "    .dataframe tbody tr th {\n",
       "        vertical-align: top;\n",
       "    }\n",
       "\n",
       "    .dataframe thead th {\n",
       "        text-align: right;\n",
       "    }\n",
       "</style>\n",
       "<table border=\"1\" class=\"dataframe\">\n",
       "  <thead>\n",
       "    <tr style=\"text-align: right;\">\n",
       "      <th></th>\n",
       "      <th>Prod Cat Code</th>\n",
       "      <th>Prod Subcat Code</th>\n",
       "      <th>Store Type</th>\n",
       "      <th>Material</th>\n",
       "    </tr>\n",
       "  </thead>\n",
       "  <tbody>\n",
       "    <tr>\n",
       "      <th>0</th>\n",
       "      <td>1</td>\n",
       "      <td>1</td>\n",
       "      <td>e-Shop</td>\n",
       "      <td>1-1-e-Shop</td>\n",
       "    </tr>\n",
       "    <tr>\n",
       "      <th>1</th>\n",
       "      <td>3</td>\n",
       "      <td>5</td>\n",
       "      <td>e-Shop</td>\n",
       "      <td>3-5-e-Shop</td>\n",
       "    </tr>\n",
       "    <tr>\n",
       "      <th>2</th>\n",
       "      <td>5</td>\n",
       "      <td>6</td>\n",
       "      <td>TeleShop</td>\n",
       "      <td>5-6-TeleShop</td>\n",
       "    </tr>\n",
       "    <tr>\n",
       "      <th>3</th>\n",
       "      <td>6</td>\n",
       "      <td>11</td>\n",
       "      <td>e-Shop</td>\n",
       "      <td>6-11-e-Shop</td>\n",
       "    </tr>\n",
       "    <tr>\n",
       "      <th>5</th>\n",
       "      <td>3</td>\n",
       "      <td>8</td>\n",
       "      <td>TeleShop</td>\n",
       "      <td>3-8-TeleShop</td>\n",
       "    </tr>\n",
       "  </tbody>\n",
       "</table>\n",
       "</div>"
      ],
      "text/plain": [
       "   Prod Cat Code  Prod Subcat Code Store Type      Material\n",
       "0              1                 1     e-Shop    1-1-e-Shop\n",
       "1              3                 5     e-Shop    3-5-e-Shop\n",
       "2              5                 6   TeleShop  5-6-TeleShop\n",
       "3              6                11     e-Shop   6-11-e-Shop\n",
       "5              3                 8   TeleShop  3-8-TeleShop"
      ]
     },
     "execution_count": 18,
     "metadata": {},
     "output_type": "execute_result"
    }
   ],
   "source": [
    "masterdf[['Prod Cat Code','Prod Subcat Code', 'Store Type', 'Material']].drop_duplicates(subset='Material').head(5)"
   ]
  },
  {
   "cell_type": "code",
   "execution_count": 19,
   "metadata": {
    "ExecuteTime": {
     "end_time": "2020-04-02T16:27:19.436987Z",
     "start_time": "2020-04-02T16:27:19.430042Z"
    }
   },
   "outputs": [
    {
     "data": {
      "text/plain": [
       "92"
      ]
     },
     "execution_count": 19,
     "metadata": {},
     "output_type": "execute_result"
    }
   ],
   "source": [
    "### how many unique material we have in the dataset\n",
    "\n",
    "len(masterdf['Material'].unique())"
   ]
  },
  {
   "cell_type": "code",
   "execution_count": 20,
   "metadata": {
    "ExecuteTime": {
     "end_time": "2020-04-02T16:27:33.963340Z",
     "start_time": "2020-04-02T16:27:33.958876Z"
    }
   },
   "outputs": [
    {
     "name": "stdout",
     "output_type": "stream",
     "text": [
      "2014-03-01\n"
     ]
    }
   ],
   "source": [
    "## get the date 'now', or for this case, the first day after the last transaction date\n",
    "## the closer a transaction happen from this 'now' date, the better the recency of the data\n",
    "\n",
    "import datetime as dt\n",
    "\n",
    "now = dt.date(2014, 3, 1) # just take the max date from the index + 1\n",
    "print(now)"
   ]
  },
  {
   "cell_type": "code",
   "execution_count": 21,
   "metadata": {
    "ExecuteTime": {
     "end_time": "2020-04-02T16:27:43.859130Z",
     "start_time": "2020-04-02T16:27:43.435545Z"
    }
   },
   "outputs": [
    {
     "data": {
      "text/html": [
       "<div>\n",
       "<style scoped>\n",
       "    .dataframe tbody tr th:only-of-type {\n",
       "        vertical-align: middle;\n",
       "    }\n",
       "\n",
       "    .dataframe tbody tr th {\n",
       "        vertical-align: top;\n",
       "    }\n",
       "\n",
       "    .dataframe thead th {\n",
       "        text-align: right;\n",
       "    }\n",
       "</style>\n",
       "<table border=\"1\" class=\"dataframe\">\n",
       "  <thead>\n",
       "    <tr style=\"text-align: right;\">\n",
       "      <th></th>\n",
       "      <th>Customer ID</th>\n",
       "      <th>Recency</th>\n",
       "    </tr>\n",
       "  </thead>\n",
       "  <tbody>\n",
       "    <tr>\n",
       "      <th>0</th>\n",
       "      <td>266783</td>\n",
       "      <td>374</td>\n",
       "    </tr>\n",
       "    <tr>\n",
       "      <th>1</th>\n",
       "      <td>266784</td>\n",
       "      <td>452</td>\n",
       "    </tr>\n",
       "    <tr>\n",
       "      <th>2</th>\n",
       "      <td>266785</td>\n",
       "      <td>212</td>\n",
       "    </tr>\n",
       "    <tr>\n",
       "      <th>3</th>\n",
       "      <td>266788</td>\n",
       "      <td>382</td>\n",
       "    </tr>\n",
       "    <tr>\n",
       "      <th>4</th>\n",
       "      <td>266794</td>\n",
       "      <td>17</td>\n",
       "    </tr>\n",
       "  </tbody>\n",
       "</table>\n",
       "</div>"
      ],
      "text/plain": [
       "   Customer ID  Recency\n",
       "0       266783      374\n",
       "1       266784      452\n",
       "2       266785      212\n",
       "3       266788      382\n",
       "4       266794       17"
      ]
     },
     "execution_count": 21,
     "metadata": {},
     "output_type": "execute_result"
    }
   ],
   "source": [
    "## RECENCY\n",
    "\n",
    "recency_df = masterdf.groupby('Customer ID').Date.max().reset_index()\n",
    "recency_df.columns = ['Customer ID','Last Purchase']\n",
    "recency_df['Recency'] = recency_df['Last Purchase'].apply(lambda x: (now - x).days)\n",
    "recency_df = recency_df[['Customer ID', 'Recency']]\n",
    "recency_df.head()"
   ]
  },
  {
   "cell_type": "code",
   "execution_count": 22,
   "metadata": {
    "ExecuteTime": {
     "end_time": "2020-04-02T16:27:44.640514Z",
     "start_time": "2020-04-02T16:27:44.623104Z"
    }
   },
   "outputs": [
    {
     "data": {
      "text/html": [
       "<div>\n",
       "<style scoped>\n",
       "    .dataframe tbody tr th:only-of-type {\n",
       "        vertical-align: middle;\n",
       "    }\n",
       "\n",
       "    .dataframe tbody tr th {\n",
       "        vertical-align: top;\n",
       "    }\n",
       "\n",
       "    .dataframe thead th {\n",
       "        text-align: right;\n",
       "    }\n",
       "</style>\n",
       "<table border=\"1\" class=\"dataframe\">\n",
       "  <thead>\n",
       "    <tr style=\"text-align: right;\">\n",
       "      <th></th>\n",
       "      <th>Customer ID</th>\n",
       "      <th>Frequency</th>\n",
       "    </tr>\n",
       "  </thead>\n",
       "  <tbody>\n",
       "    <tr>\n",
       "      <th>0</th>\n",
       "      <td>266783</td>\n",
       "      <td>5</td>\n",
       "    </tr>\n",
       "    <tr>\n",
       "      <th>1</th>\n",
       "      <td>266784</td>\n",
       "      <td>3</td>\n",
       "    </tr>\n",
       "    <tr>\n",
       "      <th>2</th>\n",
       "      <td>266785</td>\n",
       "      <td>8</td>\n",
       "    </tr>\n",
       "    <tr>\n",
       "      <th>3</th>\n",
       "      <td>266788</td>\n",
       "      <td>4</td>\n",
       "    </tr>\n",
       "    <tr>\n",
       "      <th>4</th>\n",
       "      <td>266794</td>\n",
       "      <td>12</td>\n",
       "    </tr>\n",
       "  </tbody>\n",
       "</table>\n",
       "</div>"
      ],
      "text/plain": [
       "   Customer ID  Frequency\n",
       "0       266783          5\n",
       "1       266784          3\n",
       "2       266785          8\n",
       "3       266788          4\n",
       "4       266794         12"
      ]
     },
     "execution_count": 22,
     "metadata": {},
     "output_type": "execute_result"
    }
   ],
   "source": [
    "# FREQUENCY\n",
    "\n",
    "frequency_df = masterdf.groupby('Customer ID')['Date'].count().reset_index()\n",
    "frequency_df.columns = ['Customer ID','Frequency']\n",
    "frequency_df.head() "
   ]
  },
  {
   "cell_type": "code",
   "execution_count": 23,
   "metadata": {
    "ExecuteTime": {
     "end_time": "2020-04-02T16:27:47.796471Z",
     "start_time": "2020-04-02T16:27:47.760262Z"
    }
   },
   "outputs": [
    {
     "data": {
      "text/html": [
       "<div>\n",
       "<style scoped>\n",
       "    .dataframe tbody tr th:only-of-type {\n",
       "        vertical-align: middle;\n",
       "    }\n",
       "\n",
       "    .dataframe tbody tr th {\n",
       "        vertical-align: top;\n",
       "    }\n",
       "\n",
       "    .dataframe thead th {\n",
       "        text-align: right;\n",
       "    }\n",
       "</style>\n",
       "<table border=\"1\" class=\"dataframe\">\n",
       "  <thead>\n",
       "    <tr style=\"text-align: right;\">\n",
       "      <th></th>\n",
       "      <th>Customer ID</th>\n",
       "      <th>Monetary</th>\n",
       "    </tr>\n",
       "  </thead>\n",
       "  <tbody>\n",
       "    <tr>\n",
       "      <th>0</th>\n",
       "      <td>266783</td>\n",
       "      <td>13386</td>\n",
       "    </tr>\n",
       "    <tr>\n",
       "      <th>1</th>\n",
       "      <td>266784</td>\n",
       "      <td>5153</td>\n",
       "    </tr>\n",
       "    <tr>\n",
       "      <th>2</th>\n",
       "      <td>266785</td>\n",
       "      <td>31920</td>\n",
       "    </tr>\n",
       "    <tr>\n",
       "      <th>3</th>\n",
       "      <td>266788</td>\n",
       "      <td>5514</td>\n",
       "    </tr>\n",
       "    <tr>\n",
       "      <th>4</th>\n",
       "      <td>266794</td>\n",
       "      <td>25569</td>\n",
       "    </tr>\n",
       "  </tbody>\n",
       "</table>\n",
       "</div>"
      ],
      "text/plain": [
       "   Customer ID  Monetary\n",
       "0       266783     13386\n",
       "1       266784      5153\n",
       "2       266785     31920\n",
       "3       266788      5514\n",
       "4       266794     25569"
      ]
     },
     "execution_count": 23,
     "metadata": {},
     "output_type": "execute_result"
    }
   ],
   "source": [
    "# MONETARY\n",
    "\n",
    "monetary_df = masterdf.groupby('Customer ID')['Net Sales'].sum().reset_index()\n",
    "monetary_df.columns = ['Customer ID','Monetary']\n",
    "monetary_df.head()"
   ]
  },
  {
   "cell_type": "code",
   "execution_count": 24,
   "metadata": {
    "ExecuteTime": {
     "end_time": "2020-04-02T16:27:49.085692Z",
     "start_time": "2020-04-02T16:27:49.057953Z"
    }
   },
   "outputs": [
    {
     "data": {
      "text/html": [
       "<div>\n",
       "<style scoped>\n",
       "    .dataframe tbody tr th:only-of-type {\n",
       "        vertical-align: middle;\n",
       "    }\n",
       "\n",
       "    .dataframe tbody tr th {\n",
       "        vertical-align: top;\n",
       "    }\n",
       "\n",
       "    .dataframe thead th {\n",
       "        text-align: right;\n",
       "    }\n",
       "</style>\n",
       "<table border=\"1\" class=\"dataframe\">\n",
       "  <thead>\n",
       "    <tr style=\"text-align: right;\">\n",
       "      <th></th>\n",
       "      <th>Customer ID</th>\n",
       "      <th>Variety</th>\n",
       "    </tr>\n",
       "  </thead>\n",
       "  <tbody>\n",
       "    <tr>\n",
       "      <th>0</th>\n",
       "      <td>266783</td>\n",
       "      <td>4</td>\n",
       "    </tr>\n",
       "    <tr>\n",
       "      <th>1</th>\n",
       "      <td>266784</td>\n",
       "      <td>3</td>\n",
       "    </tr>\n",
       "    <tr>\n",
       "      <th>2</th>\n",
       "      <td>266785</td>\n",
       "      <td>6</td>\n",
       "    </tr>\n",
       "    <tr>\n",
       "      <th>3</th>\n",
       "      <td>266788</td>\n",
       "      <td>4</td>\n",
       "    </tr>\n",
       "    <tr>\n",
       "      <th>4</th>\n",
       "      <td>266794</td>\n",
       "      <td>10</td>\n",
       "    </tr>\n",
       "  </tbody>\n",
       "</table>\n",
       "</div>"
      ],
      "text/plain": [
       "   Customer ID  Variety\n",
       "0       266783        4\n",
       "1       266784        3\n",
       "2       266785        6\n",
       "3       266788        4\n",
       "4       266794       10"
      ]
     },
     "execution_count": 24,
     "metadata": {},
     "output_type": "execute_result"
    }
   ],
   "source": [
    "# # VARIETY\n",
    "\n",
    "variety_df = masterdf.groupby('Customer ID')['Material'].nunique().reset_index()\n",
    "variety_df.columns = ['Customer ID','Variety']\n",
    "variety_df.head()"
   ]
  },
  {
   "cell_type": "code",
   "execution_count": 25,
   "metadata": {
    "ExecuteTime": {
     "end_time": "2020-04-02T16:30:24.718979Z",
     "start_time": "2020-04-02T16:30:24.699634Z"
    },
    "scrolled": true
   },
   "outputs": [
    {
     "data": {
      "text/html": [
       "<div>\n",
       "<style scoped>\n",
       "    .dataframe tbody tr th:only-of-type {\n",
       "        vertical-align: middle;\n",
       "    }\n",
       "\n",
       "    .dataframe tbody tr th {\n",
       "        vertical-align: top;\n",
       "    }\n",
       "\n",
       "    .dataframe thead th {\n",
       "        text-align: right;\n",
       "    }\n",
       "</style>\n",
       "<table border=\"1\" class=\"dataframe\">\n",
       "  <thead>\n",
       "    <tr style=\"text-align: right;\">\n",
       "      <th></th>\n",
       "      <th>Customer ID</th>\n",
       "      <th>Recency</th>\n",
       "      <th>Frequency</th>\n",
       "      <th>Monetary</th>\n",
       "      <th>Variety</th>\n",
       "    </tr>\n",
       "  </thead>\n",
       "  <tbody>\n",
       "    <tr>\n",
       "      <th>0</th>\n",
       "      <td>266783</td>\n",
       "      <td>374</td>\n",
       "      <td>5</td>\n",
       "      <td>13386</td>\n",
       "      <td>4</td>\n",
       "    </tr>\n",
       "    <tr>\n",
       "      <th>1</th>\n",
       "      <td>266784</td>\n",
       "      <td>452</td>\n",
       "      <td>3</td>\n",
       "      <td>5153</td>\n",
       "      <td>3</td>\n",
       "    </tr>\n",
       "    <tr>\n",
       "      <th>2</th>\n",
       "      <td>266785</td>\n",
       "      <td>212</td>\n",
       "      <td>8</td>\n",
       "      <td>31920</td>\n",
       "      <td>6</td>\n",
       "    </tr>\n",
       "    <tr>\n",
       "      <th>3</th>\n",
       "      <td>266788</td>\n",
       "      <td>382</td>\n",
       "      <td>4</td>\n",
       "      <td>5514</td>\n",
       "      <td>4</td>\n",
       "    </tr>\n",
       "    <tr>\n",
       "      <th>4</th>\n",
       "      <td>266794</td>\n",
       "      <td>17</td>\n",
       "      <td>12</td>\n",
       "      <td>25569</td>\n",
       "      <td>10</td>\n",
       "    </tr>\n",
       "  </tbody>\n",
       "</table>\n",
       "</div>"
      ],
      "text/plain": [
       "   Customer ID  Recency  Frequency  Monetary  Variety\n",
       "0       266783      374          5     13386        4\n",
       "1       266784      452          3      5153        3\n",
       "2       266785      212          8     31920        6\n",
       "3       266788      382          4      5514        4\n",
       "4       266794       17         12     25569       10"
      ]
     },
     "execution_count": 25,
     "metadata": {},
     "output_type": "execute_result"
    }
   ],
   "source": [
    "rfmv = recency_df.copy()\n",
    "\n",
    "rfmv = rfmv.merge(frequency_df, on='Customer ID')\n",
    "rfmv = rfmv.merge(monetary_df, on='Customer ID')\n",
    "rfmv = rfmv.merge(variety_df, on='Customer ID')\n",
    "rfmv.head(5)"
   ]
  },
  {
   "cell_type": "code",
   "execution_count": 26,
   "metadata": {
    "ExecuteTime": {
     "end_time": "2020-04-02T16:30:24.909937Z",
     "start_time": "2020-04-02T16:30:24.894561Z"
    }
   },
   "outputs": [
    {
     "data": {
      "text/plain": [
       "{'Recency': {0.25: 92.0, 0.5: 212.0, 0.75: 405.0},\n",
       " 'Frequency': {0.25: 3.0, 0.5: 4.0, 0.75: 6.0},\n",
       " 'Monetary': {0.25: 5041.75, 0.5: 8801.0, 0.75: 13749.0},\n",
       " 'Variety': {0.25: 2.0, 0.5: 4.0, 0.75: 5.0}}"
      ]
     },
     "execution_count": 26,
     "metadata": {},
     "output_type": "execute_result"
    }
   ],
   "source": [
    "### we take the 25%, 50%, and 75% quantile for each of R, F, M, and V and store them into dictionary data type\n",
    "rfmv_quantiles = rfmv.iloc[:, 1:].quantile(q = [0.25, 0.5, 0.75]).to_dict()\n",
    "rfmv_quantiles"
   ]
  },
  {
   "cell_type": "code",
   "execution_count": 27,
   "metadata": {
    "ExecuteTime": {
     "end_time": "2020-04-02T16:30:25.017570Z",
     "start_time": "2020-04-02T16:30:25.011124Z"
    }
   },
   "outputs": [],
   "source": [
    "## create a function that returns a score--0 to 4 based on the quartile ranking\n",
    "## these score can be easily interpreted by the K-Mean algorithm instead of the actual value of RFMB\n",
    "\n",
    "### recency score: the lower the recency, the higher the score \n",
    "def RecencyScore(i, col, df):\n",
    "    if i <= df[col][0.25]:\n",
    "        return 4\n",
    "    elif i <= df[col][0.50]:\n",
    "        return 3\n",
    "    elif i <= df[col][0.75]: \n",
    "        return 2\n",
    "    else:\n",
    "        return 1\n",
    "    \n",
    "# F, M, V: In contrast to Recency, the higher the quantile value, the higher the score    \n",
    "def FMVScore(i, col, df):\n",
    "    if i <= df[col][0.25]:\n",
    "        return 1\n",
    "    elif i <= df[col][0.50]:\n",
    "        return 2\n",
    "    elif i <= df[col][0.75]: \n",
    "        return 3    \n",
    "    else:\n",
    "        return 4"
   ]
  },
  {
   "cell_type": "code",
   "execution_count": 28,
   "metadata": {
    "ExecuteTime": {
     "end_time": "2020-04-02T16:30:25.321618Z",
     "start_time": "2020-04-02T16:30:25.204064Z"
    }
   },
   "outputs": [],
   "source": [
    "rfmv2 = rfmv.copy()\n",
    "\n",
    "rfmv2['R_q'] = rfmv2['Recency'].apply(RecencyScore, args=('Recency', rfmv_quantiles ))\n",
    "rfmv2['F_q'] = rfmv2['Frequency'].apply(FMVScore, args=('Frequency', rfmv_quantiles ))\n",
    "rfmv2['M_q'] = rfmv2['Monetary'].apply(FMVScore, args=('Monetary', rfmv_quantiles ))\n",
    "rfmv2['V_q'] = rfmv2['Variety'].apply(FMVScore, args=('Variety', rfmv_quantiles ))\n",
    "\n",
    "rfmv2 = rfmv2[['Customer ID', 'R_q', 'F_q', 'M_q', 'V_q',]]\n",
    "\n",
    "# # Sum total scores of each component\n",
    "\n",
    "rfmv2['Total_Score'] = rfmv2['R_q'] + rfmv2['F_q'] + rfmv2['M_q'] + rfmv2['V_q']\n",
    "\n",
    "rfmv2 = rfmv2[['Customer ID', 'Total_Score']]\n",
    "\n",
    "# IMPORTANT: set index to customer number\n",
    "rfmv2.index = rfmv2['Customer ID']\n",
    "rfmv2 = rfmv2.drop('Customer ID', axis=1)"
   ]
  },
  {
   "cell_type": "code",
   "execution_count": 29,
   "metadata": {
    "ExecuteTime": {
     "end_time": "2020-04-02T16:30:25.862752Z",
     "start_time": "2020-04-02T16:30:25.325586Z"
    }
   },
   "outputs": [
    {
     "data": {
      "image/png": "[encoded data removed]",
      "text/plain": [
       "<Figure size 640x480 with 1 Axes>"
      ]
     },
     "metadata": {},
     "output_type": "display_data"
    }
   ],
   "source": [
    "# We use elbow method to find the optimal number of clusters\n",
    "\n",
    "wcss = []\n",
    "for i in range(2,10):\n",
    "    kmeans = KMeans(n_clusters=i, \n",
    "                    init='k-means++')\n",
    "    kmeans.fit(rfmv2)\n",
    "    wcss.append(kmeans.inertia_)\n",
    "    \n",
    "# Plot the graph for Elbow Method\n",
    "plt.plot(range(2,10), wcss)\n",
    "plt.title('Elbow graph')\n",
    "plt.xlabel('Cluster number')\n",
    "plt.ylabel('WCSS')\n",
    "plt.show()"
   ]
  },
  {
   "cell_type": "code",
   "execution_count": 30,
   "metadata": {
    "ExecuteTime": {
     "end_time": "2020-04-02T16:30:25.905905Z",
     "start_time": "2020-04-02T16:30:25.865233Z"
    }
   },
   "outputs": [],
   "source": [
    "# Apply KMean clustering using the optimal number with the \"elbow\" on the graph above\n",
    "kmeans = KMeans(n_clusters=4, \n",
    "                init='random', \n",
    "                random_state=None)\n",
    "\n",
    "clusters = kmeans.fit_predict(rfmv2)\n",
    "\n",
    "### add the cluster result to the original rfmv dataframe\n",
    "rfmv['Clusters'] = clusters"
   ]
  },
  {
   "cell_type": "code",
   "execution_count": 31,
   "metadata": {
    "ExecuteTime": {
     "end_time": "2020-04-02T16:30:25.960025Z",
     "start_time": "2020-04-02T16:30:25.942611Z"
    }
   },
   "outputs": [
    {
     "data": {
      "text/html": [
       "<div>\n",
       "<style scoped>\n",
       "    .dataframe tbody tr th:only-of-type {\n",
       "        vertical-align: middle;\n",
       "    }\n",
       "\n",
       "    .dataframe tbody tr th {\n",
       "        vertical-align: top;\n",
       "    }\n",
       "\n",
       "    .dataframe thead th {\n",
       "        text-align: right;\n",
       "    }\n",
       "</style>\n",
       "<table border=\"1\" class=\"dataframe\">\n",
       "  <thead>\n",
       "    <tr style=\"text-align: right;\">\n",
       "      <th></th>\n",
       "      <th>Customer ID</th>\n",
       "      <th>Recency</th>\n",
       "      <th>Frequency</th>\n",
       "      <th>Monetary</th>\n",
       "      <th>Variety</th>\n",
       "      <th>Clusters</th>\n",
       "    </tr>\n",
       "  </thead>\n",
       "  <tbody>\n",
       "    <tr>\n",
       "      <th>0</th>\n",
       "      <td>266783</td>\n",
       "      <td>374</td>\n",
       "      <td>5</td>\n",
       "      <td>13386</td>\n",
       "      <td>4</td>\n",
       "      <td>1</td>\n",
       "    </tr>\n",
       "    <tr>\n",
       "      <th>1</th>\n",
       "      <td>266784</td>\n",
       "      <td>452</td>\n",
       "      <td>3</td>\n",
       "      <td>5153</td>\n",
       "      <td>3</td>\n",
       "      <td>3</td>\n",
       "    </tr>\n",
       "    <tr>\n",
       "      <th>2</th>\n",
       "      <td>266785</td>\n",
       "      <td>212</td>\n",
       "      <td>8</td>\n",
       "      <td>31920</td>\n",
       "      <td>6</td>\n",
       "      <td>2</td>\n",
       "    </tr>\n",
       "    <tr>\n",
       "      <th>3</th>\n",
       "      <td>266788</td>\n",
       "      <td>382</td>\n",
       "      <td>4</td>\n",
       "      <td>5514</td>\n",
       "      <td>4</td>\n",
       "      <td>0</td>\n",
       "    </tr>\n",
       "    <tr>\n",
       "      <th>4</th>\n",
       "      <td>266794</td>\n",
       "      <td>17</td>\n",
       "      <td>12</td>\n",
       "      <td>25569</td>\n",
       "      <td>10</td>\n",
       "      <td>2</td>\n",
       "    </tr>\n",
       "  </tbody>\n",
       "</table>\n",
       "</div>"
      ],
      "text/plain": [
       "   Customer ID  Recency  Frequency  Monetary  Variety  Clusters\n",
       "0       266783      374          5     13386        4         1\n",
       "1       266784      452          3      5153        3         3\n",
       "2       266785      212          8     31920        6         2\n",
       "3       266788      382          4      5514        4         0\n",
       "4       266794       17         12     25569       10         2"
      ]
     },
     "execution_count": 31,
     "metadata": {},
     "output_type": "execute_result"
    }
   ],
   "source": [
    "rfmv.head(5)"
   ]
  },
  {
   "cell_type": "code",
   "execution_count": 32,
   "metadata": {
    "ExecuteTime": {
     "end_time": "2020-04-02T16:30:16.371685Z",
     "start_time": "2020-04-02T16:30:16.366230Z"
    },
    "scrolled": true
   },
   "outputs": [
    {
     "data": {
      "text/plain": [
       "Counter({0: 1559, 3: 1436, 1: 1273, 2: 1238})"
      ]
     },
     "execution_count": 32,
     "metadata": {},
     "output_type": "execute_result"
    }
   ],
   "source": [
    "### counter is a nice function to see how many counts belong to each unique value\n",
    "### in this case we want to know how may members allocated in each cluster\n",
    "\n",
    "Counter(clusters)"
   ]
  },
  {
   "cell_type": "code",
   "execution_count": 33,
   "metadata": {
    "ExecuteTime": {
     "end_time": "2020-04-02T16:38:37.331766Z",
     "start_time": "2020-04-02T16:38:37.004407Z"
    }
   },
   "outputs": [
    {
     "data": {
      "text/plain": [
       "<matplotlib.legend.Legend at 0x283fe8f10>"
      ]
     },
     "execution_count": 33,
     "metadata": {},
     "output_type": "execute_result"
    },
    {
     "data": {
      "image/png": "[encoded data removed]",
      "text/plain": [
       "<Figure size 1200x800 with 1 Axes>"
      ]
     },
     "metadata": {},
     "output_type": "display_data"
    }
   ],
   "source": [
    "## optional: plot the two components with their respective RFMV to see the shape of the clusters\n",
    "## optional: you can try to plot other RFMV components too\n",
    "\n",
    "fig, ax = plt.subplots(figsize=(12,8))\n",
    "\n",
    "var1 = 'Recency'\n",
    "var2 = 'Frequency'\n",
    "temp = rfmv.copy()\n",
    "\n",
    "c1 = temp[temp.Clusters == 0]\n",
    "c2 = temp[temp.Clusters == 1]\n",
    "c3 = temp[temp.Clusters == 2]\n",
    "c4 = temp[temp.Clusters == 3]\n",
    "\n",
    "# Visualization of the clusters\n",
    "plt.scatter(c1[var1], c1[var2], c = 'b', label = 'Cluster 1', s=8)\n",
    "plt.scatter(c2[var1], c2[var2], c = 'r', label = 'Cluster 2', s=8)\n",
    "plt.scatter(c3[var1], c3[var2], c = 'g', label = 'Cluster 3', s=8)\n",
    "plt.scatter(c4[var1], c4[var2], c = 'k', label = 'Cluster 4', s=8)\n",
    "\n",
    "plt.title('Clusters of customers', size=20)\n",
    "plt.xlabel(var1, size=20)\n",
    "plt.ylabel(var2, size=20)\n",
    "plt.legend(fontsize=20)"
   ]
  },
  {
   "cell_type": "markdown",
   "metadata": {},
   "source": [
    "# Recommendation Weight"
   ]
  },
  {
   "cell_type": "code",
   "execution_count": 34,
   "metadata": {
    "ExecuteTime": {
     "end_time": "2020-04-02T16:38:39.388710Z",
     "start_time": "2020-04-02T16:38:39.383751Z"
    }
   },
   "outputs": [],
   "source": [
    "### Depending on business use case, the rec engine may want to recommend to a certain type of customers, \n",
    "### i.e., recommend only to active customers, re-instate long-lost customers, recommend long-tailed/unpopular product etc.\n",
    "### here, we will only recommend to active customers over the last year (within 365 days)\n",
    "\n",
    "active_cust = rfmv[rfmv.Recency < 365]"
   ]
  },
  {
   "cell_type": "code",
   "execution_count": 35,
   "metadata": {
    "ExecuteTime": {
     "end_time": "2020-04-02T16:39:36.849383Z",
     "start_time": "2020-04-02T16:39:36.794824Z"
    },
    "scrolled": true
   },
   "outputs": [],
   "source": [
    "### merge customer features--clusters and city--into master data\n",
    "\n",
    "cleaned_df = masterdf.merge(active_cust[['Customer ID','Clusters']], how='left', on='Customer ID')\n",
    "\n",
    "## removed any null entries on clusters (if any)\n",
    "cleaned_df = cleaned_df[cleaned_df['Clusters'].notnull()]\n",
    "\n",
    "## append customer table\n",
    "cleaned_df = cleaned_df.merge(custdf[['Customer ID', 'City Code']], how='left', \n",
    "                on='Customer ID')\n",
    "\n",
    "### merge sku feature--product category--into master data\n",
    "cleaned_df = cleaned_df.merge(skudf[['Prod Cat', 'Prod Cat Code']], how='left', \n",
    "                on='Prod Cat Code')"
   ]
  },
  {
   "cell_type": "code",
   "execution_count": 36,
   "metadata": {
    "ExecuteTime": {
     "end_time": "2020-04-02T16:39:37.590904Z",
     "start_time": "2020-04-02T16:39:37.572056Z"
    }
   },
   "outputs": [
    {
     "data": {
      "text/plain": [
       "(77908, 3899, 92)"
      ]
     },
     "execution_count": 36,
     "metadata": {},
     "output_type": "execute_result"
    }
   ],
   "source": [
    "### data sanity--check the length of transactions, customer, and sku\n",
    "\n",
    "len(cleaned_df), len(cleaned_df['Customer ID'].unique()), len(cleaned_df['Material'].unique())"
   ]
  },
  {
   "cell_type": "code",
   "execution_count": 37,
   "metadata": {
    "ExecuteTime": {
     "end_time": "2020-04-02T16:39:50.420076Z",
     "start_time": "2020-04-02T16:39:50.360510Z"
    }
   },
   "outputs": [],
   "source": [
    "# Getting the required columns\n",
    "# Get rid of unnecessary info, keep only essential columns\n",
    "    \n",
    "final_cleaned_df = cleaned_df\n",
    "\n",
    "final_cleaned_df = final_cleaned_df[['Prod Cat','Material','Qty','Customer ID','Clusters',]]\n",
    "\n",
    "# Group together to get total quantity for each customer, \n",
    "# retaining unique customer list, eliminating duplicates and redundancy\n",
    "cust_grouped = final_cleaned_df.groupby(['Customer ID',\n",
    "                                         'Prod Cat',\n",
    "                                         'Material',\n",
    "                                        'Clusters']).sum().reset_index()\n"
   ]
  },
  {
   "cell_type": "code",
   "execution_count": 38,
   "metadata": {
    "ExecuteTime": {
     "end_time": "2020-04-02T16:39:58.329730Z",
     "start_time": "2020-04-02T16:39:58.294549Z"
    }
   },
   "outputs": [],
   "source": [
    "### Interaction Matrix \n",
    "# Getting the Customer's transaction for every material interms of sales quantity\n",
    "interactions = cust_grouped.groupby(['Customer ID', 'Material'])['Qty'].sum().unstack().fillna(0)\n",
    "\n",
    "# Scale value of the interaction matrix using sklearn.preprocessing.MinMaxScaler \n",
    "minmaxscaler = preprocessing.MinMaxScaler()\n",
    "interactions_scaled = minmaxscaler.fit_transform(interactions)\n",
    "interactions_scaled = pd.DataFrame(interactions_scaled)\n",
    "\n",
    "## The scaled matrix lost the index (customer) and column (item) information\n",
    "## we re-append the customer ID and the material into the DataFrame's index and column respectively\n",
    "interactions_scaled.index = interactions.index\n",
    "interactions_scaled.columns = interactions.columns"
   ]
  },
  {
   "cell_type": "code",
   "execution_count": 39,
   "metadata": {
    "ExecuteTime": {
     "end_time": "2020-04-02T16:39:59.618476Z",
     "start_time": "2020-04-02T16:39:59.549020Z"
    },
    "scrolled": true
   },
   "outputs": [
    {
     "data": {
      "text/html": [
       "<div>\n",
       "<style scoped>\n",
       "    .dataframe tbody tr th:only-of-type {\n",
       "        vertical-align: middle;\n",
       "    }\n",
       "\n",
       "    .dataframe tbody tr th {\n",
       "        vertical-align: top;\n",
       "    }\n",
       "\n",
       "    .dataframe thead th {\n",
       "        text-align: right;\n",
       "    }\n",
       "</style>\n",
       "<table border=\"1\" class=\"dataframe\">\n",
       "  <thead>\n",
       "    <tr style=\"text-align: right;\">\n",
       "      <th>Material</th>\n",
       "      <th>1-1-Flagship store</th>\n",
       "      <th>1-1-MBR</th>\n",
       "      <th>1-1-TeleShop</th>\n",
       "      <th>1-1-e-Shop</th>\n",
       "      <th>1-3-Flagship store</th>\n",
       "      <th>1-3-MBR</th>\n",
       "      <th>1-3-TeleShop</th>\n",
       "      <th>1-3-e-Shop</th>\n",
       "      <th>1-4-Flagship store</th>\n",
       "      <th>1-4-MBR</th>\n",
       "      <th>...</th>\n",
       "      <th>6-11-TeleShop</th>\n",
       "      <th>6-11-e-Shop</th>\n",
       "      <th>6-12-Flagship store</th>\n",
       "      <th>6-12-MBR</th>\n",
       "      <th>6-12-TeleShop</th>\n",
       "      <th>6-12-e-Shop</th>\n",
       "      <th>6-2-Flagship store</th>\n",
       "      <th>6-2-MBR</th>\n",
       "      <th>6-2-TeleShop</th>\n",
       "      <th>6-2-e-Shop</th>\n",
       "    </tr>\n",
       "    <tr>\n",
       "      <th>Customer ID</th>\n",
       "      <th></th>\n",
       "      <th></th>\n",
       "      <th></th>\n",
       "      <th></th>\n",
       "      <th></th>\n",
       "      <th></th>\n",
       "      <th></th>\n",
       "      <th></th>\n",
       "      <th></th>\n",
       "      <th></th>\n",
       "      <th></th>\n",
       "      <th></th>\n",
       "      <th></th>\n",
       "      <th></th>\n",
       "      <th></th>\n",
       "      <th></th>\n",
       "      <th></th>\n",
       "      <th></th>\n",
       "      <th></th>\n",
       "      <th></th>\n",
       "      <th></th>\n",
       "    </tr>\n",
       "  </thead>\n",
       "  <tbody>\n",
       "    <tr>\n",
       "      <th>266785</th>\n",
       "      <td>0.0</td>\n",
       "      <td>0.0</td>\n",
       "      <td>0.0</td>\n",
       "      <td>0.0</td>\n",
       "      <td>0.0</td>\n",
       "      <td>0.0</td>\n",
       "      <td>0.0</td>\n",
       "      <td>0.0</td>\n",
       "      <td>0.0</td>\n",
       "      <td>0.0</td>\n",
       "      <td>...</td>\n",
       "      <td>0.0</td>\n",
       "      <td>0.0</td>\n",
       "      <td>0.0</td>\n",
       "      <td>0.0</td>\n",
       "      <td>0.0</td>\n",
       "      <td>0.0</td>\n",
       "      <td>0.0</td>\n",
       "      <td>0.0</td>\n",
       "      <td>0.0</td>\n",
       "      <td>0.0</td>\n",
       "    </tr>\n",
       "    <tr>\n",
       "      <th>266794</th>\n",
       "      <td>0.0</td>\n",
       "      <td>0.0</td>\n",
       "      <td>0.0</td>\n",
       "      <td>0.0</td>\n",
       "      <td>0.0</td>\n",
       "      <td>9.0</td>\n",
       "      <td>0.0</td>\n",
       "      <td>12.0</td>\n",
       "      <td>0.0</td>\n",
       "      <td>0.0</td>\n",
       "      <td>...</td>\n",
       "      <td>0.0</td>\n",
       "      <td>0.0</td>\n",
       "      <td>0.0</td>\n",
       "      <td>0.0</td>\n",
       "      <td>0.0</td>\n",
       "      <td>0.0</td>\n",
       "      <td>0.0</td>\n",
       "      <td>0.0</td>\n",
       "      <td>0.0</td>\n",
       "      <td>0.0</td>\n",
       "    </tr>\n",
       "    <tr>\n",
       "      <th>266799</th>\n",
       "      <td>0.0</td>\n",
       "      <td>0.0</td>\n",
       "      <td>0.0</td>\n",
       "      <td>0.0</td>\n",
       "      <td>0.0</td>\n",
       "      <td>0.0</td>\n",
       "      <td>0.0</td>\n",
       "      <td>0.0</td>\n",
       "      <td>0.0</td>\n",
       "      <td>0.0</td>\n",
       "      <td>...</td>\n",
       "      <td>0.0</td>\n",
       "      <td>0.0</td>\n",
       "      <td>0.0</td>\n",
       "      <td>0.0</td>\n",
       "      <td>0.0</td>\n",
       "      <td>0.0</td>\n",
       "      <td>0.0</td>\n",
       "      <td>0.0</td>\n",
       "      <td>0.0</td>\n",
       "      <td>0.0</td>\n",
       "    </tr>\n",
       "    <tr>\n",
       "      <th>266804</th>\n",
       "      <td>0.0</td>\n",
       "      <td>0.0</td>\n",
       "      <td>0.0</td>\n",
       "      <td>0.0</td>\n",
       "      <td>0.0</td>\n",
       "      <td>0.0</td>\n",
       "      <td>0.0</td>\n",
       "      <td>0.0</td>\n",
       "      <td>0.0</td>\n",
       "      <td>0.0</td>\n",
       "      <td>...</td>\n",
       "      <td>0.0</td>\n",
       "      <td>0.0</td>\n",
       "      <td>0.0</td>\n",
       "      <td>0.0</td>\n",
       "      <td>0.0</td>\n",
       "      <td>0.0</td>\n",
       "      <td>0.0</td>\n",
       "      <td>0.0</td>\n",
       "      <td>0.0</td>\n",
       "      <td>0.0</td>\n",
       "    </tr>\n",
       "    <tr>\n",
       "      <th>266805</th>\n",
       "      <td>0.0</td>\n",
       "      <td>0.0</td>\n",
       "      <td>0.0</td>\n",
       "      <td>0.0</td>\n",
       "      <td>0.0</td>\n",
       "      <td>0.0</td>\n",
       "      <td>0.0</td>\n",
       "      <td>0.0</td>\n",
       "      <td>0.0</td>\n",
       "      <td>0.0</td>\n",
       "      <td>...</td>\n",
       "      <td>0.0</td>\n",
       "      <td>0.0</td>\n",
       "      <td>0.0</td>\n",
       "      <td>0.0</td>\n",
       "      <td>0.0</td>\n",
       "      <td>0.0</td>\n",
       "      <td>0.0</td>\n",
       "      <td>0.0</td>\n",
       "      <td>0.0</td>\n",
       "      <td>0.0</td>\n",
       "    </tr>\n",
       "    <tr>\n",
       "      <th>...</th>\n",
       "      <td>...</td>\n",
       "      <td>...</td>\n",
       "      <td>...</td>\n",
       "      <td>...</td>\n",
       "      <td>...</td>\n",
       "      <td>...</td>\n",
       "      <td>...</td>\n",
       "      <td>...</td>\n",
       "      <td>...</td>\n",
       "      <td>...</td>\n",
       "      <td>...</td>\n",
       "      <td>...</td>\n",
       "      <td>...</td>\n",
       "      <td>...</td>\n",
       "      <td>...</td>\n",
       "      <td>...</td>\n",
       "      <td>...</td>\n",
       "      <td>...</td>\n",
       "      <td>...</td>\n",
       "      <td>...</td>\n",
       "      <td>...</td>\n",
       "    </tr>\n",
       "    <tr>\n",
       "      <th>275252</th>\n",
       "      <td>0.0</td>\n",
       "      <td>0.0</td>\n",
       "      <td>0.0</td>\n",
       "      <td>0.0</td>\n",
       "      <td>0.0</td>\n",
       "      <td>0.0</td>\n",
       "      <td>0.0</td>\n",
       "      <td>0.0</td>\n",
       "      <td>0.0</td>\n",
       "      <td>0.0</td>\n",
       "      <td>...</td>\n",
       "      <td>0.0</td>\n",
       "      <td>0.0</td>\n",
       "      <td>0.0</td>\n",
       "      <td>0.0</td>\n",
       "      <td>0.0</td>\n",
       "      <td>0.0</td>\n",
       "      <td>0.0</td>\n",
       "      <td>0.0</td>\n",
       "      <td>0.0</td>\n",
       "      <td>0.0</td>\n",
       "    </tr>\n",
       "    <tr>\n",
       "      <th>275255</th>\n",
       "      <td>0.0</td>\n",
       "      <td>0.0</td>\n",
       "      <td>0.0</td>\n",
       "      <td>0.0</td>\n",
       "      <td>0.0</td>\n",
       "      <td>0.0</td>\n",
       "      <td>0.0</td>\n",
       "      <td>0.0</td>\n",
       "      <td>0.0</td>\n",
       "      <td>0.0</td>\n",
       "      <td>...</td>\n",
       "      <td>0.0</td>\n",
       "      <td>0.0</td>\n",
       "      <td>0.0</td>\n",
       "      <td>0.0</td>\n",
       "      <td>0.0</td>\n",
       "      <td>0.0</td>\n",
       "      <td>0.0</td>\n",
       "      <td>0.0</td>\n",
       "      <td>0.0</td>\n",
       "      <td>0.0</td>\n",
       "    </tr>\n",
       "    <tr>\n",
       "      <th>275257</th>\n",
       "      <td>0.0</td>\n",
       "      <td>0.0</td>\n",
       "      <td>0.0</td>\n",
       "      <td>0.0</td>\n",
       "      <td>0.0</td>\n",
       "      <td>0.0</td>\n",
       "      <td>0.0</td>\n",
       "      <td>0.0</td>\n",
       "      <td>0.0</td>\n",
       "      <td>0.0</td>\n",
       "      <td>...</td>\n",
       "      <td>0.0</td>\n",
       "      <td>0.0</td>\n",
       "      <td>0.0</td>\n",
       "      <td>0.0</td>\n",
       "      <td>0.0</td>\n",
       "      <td>0.0</td>\n",
       "      <td>0.0</td>\n",
       "      <td>0.0</td>\n",
       "      <td>0.0</td>\n",
       "      <td>0.0</td>\n",
       "    </tr>\n",
       "    <tr>\n",
       "      <th>275261</th>\n",
       "      <td>0.0</td>\n",
       "      <td>0.0</td>\n",
       "      <td>0.0</td>\n",
       "      <td>0.0</td>\n",
       "      <td>0.0</td>\n",
       "      <td>0.0</td>\n",
       "      <td>0.0</td>\n",
       "      <td>0.0</td>\n",
       "      <td>0.0</td>\n",
       "      <td>0.0</td>\n",
       "      <td>...</td>\n",
       "      <td>0.0</td>\n",
       "      <td>0.0</td>\n",
       "      <td>0.0</td>\n",
       "      <td>0.0</td>\n",
       "      <td>0.0</td>\n",
       "      <td>0.0</td>\n",
       "      <td>0.0</td>\n",
       "      <td>0.0</td>\n",
       "      <td>0.0</td>\n",
       "      <td>0.0</td>\n",
       "    </tr>\n",
       "    <tr>\n",
       "      <th>275265</th>\n",
       "      <td>0.0</td>\n",
       "      <td>0.0</td>\n",
       "      <td>0.0</td>\n",
       "      <td>0.0</td>\n",
       "      <td>0.0</td>\n",
       "      <td>0.0</td>\n",
       "      <td>0.0</td>\n",
       "      <td>0.0</td>\n",
       "      <td>0.0</td>\n",
       "      <td>0.0</td>\n",
       "      <td>...</td>\n",
       "      <td>0.0</td>\n",
       "      <td>0.0</td>\n",
       "      <td>0.0</td>\n",
       "      <td>0.0</td>\n",
       "      <td>0.0</td>\n",
       "      <td>0.0</td>\n",
       "      <td>12.0</td>\n",
       "      <td>0.0</td>\n",
       "      <td>0.0</td>\n",
       "      <td>0.0</td>\n",
       "    </tr>\n",
       "  </tbody>\n",
       "</table>\n",
       "<p>3899 rows × 92 columns</p>\n",
       "</div>"
      ],
      "text/plain": [
       "Material     1-1-Flagship store  1-1-MBR  1-1-TeleShop  1-1-e-Shop  \\\n",
       "Customer ID                                                          \n",
       "266785                      0.0      0.0           0.0         0.0   \n",
       "266794                      0.0      0.0           0.0         0.0   \n",
       "266799                      0.0      0.0           0.0         0.0   \n",
       "266804                      0.0      0.0           0.0         0.0   \n",
       "266805                      0.0      0.0           0.0         0.0   \n",
       "...                         ...      ...           ...         ...   \n",
       "275252                      0.0      0.0           0.0         0.0   \n",
       "275255                      0.0      0.0           0.0         0.0   \n",
       "275257                      0.0      0.0           0.0         0.0   \n",
       "275261                      0.0      0.0           0.0         0.0   \n",
       "275265                      0.0      0.0           0.0         0.0   \n",
       "\n",
       "Material     1-3-Flagship store  1-3-MBR  1-3-TeleShop  1-3-e-Shop  \\\n",
       "Customer ID                                                          \n",
       "266785                      0.0      0.0           0.0         0.0   \n",
       "266794                      0.0      9.0           0.0        12.0   \n",
       "266799                      0.0      0.0           0.0         0.0   \n",
       "266804                      0.0      0.0           0.0         0.0   \n",
       "266805                      0.0      0.0           0.0         0.0   \n",
       "...                         ...      ...           ...         ...   \n",
       "275252                      0.0      0.0           0.0         0.0   \n",
       "275255                      0.0      0.0           0.0         0.0   \n",
       "275257                      0.0      0.0           0.0         0.0   \n",
       "275261                      0.0      0.0           0.0         0.0   \n",
       "275265                      0.0      0.0           0.0         0.0   \n",
       "\n",
       "Material     1-4-Flagship store  1-4-MBR  ...  6-11-TeleShop  6-11-e-Shop  \\\n",
       "Customer ID                               ...                               \n",
       "266785                      0.0      0.0  ...            0.0          0.0   \n",
       "266794                      0.0      0.0  ...            0.0          0.0   \n",
       "266799                      0.0      0.0  ...            0.0          0.0   \n",
       "266804                      0.0      0.0  ...            0.0          0.0   \n",
       "266805                      0.0      0.0  ...            0.0          0.0   \n",
       "...                         ...      ...  ...            ...          ...   \n",
       "275252                      0.0      0.0  ...            0.0          0.0   \n",
       "275255                      0.0      0.0  ...            0.0          0.0   \n",
       "275257                      0.0      0.0  ...            0.0          0.0   \n",
       "275261                      0.0      0.0  ...            0.0          0.0   \n",
       "275265                      0.0      0.0  ...            0.0          0.0   \n",
       "\n",
       "Material     6-12-Flagship store  6-12-MBR  6-12-TeleShop  6-12-e-Shop  \\\n",
       "Customer ID                                                              \n",
       "266785                       0.0       0.0            0.0          0.0   \n",
       "266794                       0.0       0.0            0.0          0.0   \n",
       "266799                       0.0       0.0            0.0          0.0   \n",
       "266804                       0.0       0.0            0.0          0.0   \n",
       "266805                       0.0       0.0            0.0          0.0   \n",
       "...                          ...       ...            ...          ...   \n",
       "275252                       0.0       0.0            0.0          0.0   \n",
       "275255                       0.0       0.0            0.0          0.0   \n",
       "275257                       0.0       0.0            0.0          0.0   \n",
       "275261                       0.0       0.0            0.0          0.0   \n",
       "275265                       0.0       0.0            0.0          0.0   \n",
       "\n",
       "Material     6-2-Flagship store  6-2-MBR  6-2-TeleShop  6-2-e-Shop  \n",
       "Customer ID                                                         \n",
       "266785                      0.0      0.0           0.0         0.0  \n",
       "266794                      0.0      0.0           0.0         0.0  \n",
       "266799                      0.0      0.0           0.0         0.0  \n",
       "266804                      0.0      0.0           0.0         0.0  \n",
       "266805                      0.0      0.0           0.0         0.0  \n",
       "...                         ...      ...           ...         ...  \n",
       "275252                      0.0      0.0           0.0         0.0  \n",
       "275255                      0.0      0.0           0.0         0.0  \n",
       "275257                      0.0      0.0           0.0         0.0  \n",
       "275261                      0.0      0.0           0.0         0.0  \n",
       "275265                     12.0      0.0           0.0         0.0  \n",
       "\n",
       "[3899 rows x 92 columns]"
      ]
     },
     "execution_count": 39,
     "metadata": {},
     "output_type": "execute_result"
    }
   ],
   "source": [
    "interactions"
   ]
  },
  {
   "cell_type": "code",
   "execution_count": 40,
   "metadata": {
    "ExecuteTime": {
     "end_time": "2020-04-02T16:40:13.584647Z",
     "start_time": "2020-04-02T16:40:13.560299Z"
    },
    "scrolled": true
   },
   "outputs": [],
   "source": [
    "### User Features Matrix \n",
    "## There are two features that is used to build the user matrix here\n",
    "## First is the customer's unique categories they buy \n",
    "## Second is the clusters they belong to\n",
    "\n",
    "# Getting the unique categories they buy\n",
    "# grouped them by the quantity per category\n",
    "cust_qty = cust_grouped.groupby(['Customer ID', 'Prod Cat'])['Qty'].sum().unstack().fillna(0)\n",
    "\n",
    "# Scaled value of the categories\n",
    "# Scale value of the interaction matrix using sklearn.preprocessing.MinMaxScaler \n",
    "minmaxscaler = preprocessing.MinMaxScaler()\n",
    "cust_qty_scaled = minmaxscaler.fit_transform(cust_qty)\n",
    "cust_qty_scaled = pd.DataFrame(cust_qty_scaled)\n",
    "cust_qty_scaled.index = cust_qty.index\n",
    "cust_qty_scaled.columns = cust_qty.columns\n",
    "\n",
    "## Include the Cluster features of the customers\n",
    "## this is the additional feature that we want to add into the user feature\n",
    "## the cluster serves as customer's \"characteristics\"\n",
    "### we use groupby/nunique aggregation to get a one-hot encoding of each customer's clusters\n",
    "\n",
    "cust_clus = cust_grouped.groupby(['Customer ID', 'Clusters'])['Clusters'].nunique().unstack().fillna(0)\n",
    "cust_clus\n",
    "\n",
    "# Merge the two features to create the user feature matrix\n",
    "customer_features = pd.merge(cust_qty_scaled, cust_clus, left_index=True, right_index=True, how='inner')\n",
    "customer_features = customer_features.rename(columns={0: 'Cluster 0', \n",
    "                                                      1: 'Cluster 1', \n",
    "                                                      2: 'Cluster 2', \n",
    "                                                      3: 'Cluster 3', \n",
    "                                                      4: 'Cluster 4'})\n",
    "\n",
    "## as an additional practice, you can also include other user information from custdf, such as gender and date of birth\n",
    "## but for now, I will omit those information"
   ]
  },
  {
   "cell_type": "code",
   "execution_count": 41,
   "metadata": {
    "ExecuteTime": {
     "end_time": "2020-04-02T16:40:16.796340Z",
     "start_time": "2020-04-02T16:40:16.778484Z"
    }
   },
   "outputs": [],
   "source": [
    "### Item Features Matrix\n",
    "## We use the different categories of the items as the feature to build the item feature matrix here\n",
    "\n",
    "item_category = pd.DataFrame(cust_grouped.groupby(['Material', \n",
    "                                              'Prod Cat'])['Qty'].sum().unstack().fillna(0).reset_index().set_index('Material'))\n",
    "# item_cat = item_cat.applymap(replaceneg0)\n",
    "\n",
    "# Scaled value of the item categories\n",
    "minmaxscaler = preprocessing.MinMaxScaler()\n",
    "item_category_scaled = minmaxscaler.fit_transform(item_category)\n",
    "item_category_scaled = pd.DataFrame(item_category_scaled)\n",
    "item_category_scaled.index = item_category.index\n",
    "item_category_scaled.columns = item_category.columns"
   ]
  },
  {
   "cell_type": "code",
   "execution_count": 42,
   "metadata": {
    "ExecuteTime": {
     "end_time": "2020-04-02T16:40:18.340264Z",
     "start_time": "2020-04-02T16:40:18.323897Z"
    }
   },
   "outputs": [],
   "source": [
    "### We have three features as required by TensorRec\n",
    "### TensorRec accept matrix, and not dataframe, therefore we need to transform them into matrix\n",
    "\n",
    "## Create COOMatrices using Scipy function \n",
    "## COOMatrices are sparse matrices, mostly filled with zero\n",
    "## It speeds up the processes and saves a lot of memory\n",
    "interaction_f = sparse.coo_matrix(interactions_scaled)\n",
    "user_f  = sparse.coo_matrix(customer_features) \n",
    "item_f  = sparse.coo_matrix(item_category_scaled) "
   ]
  },
  {
   "cell_type": "code",
   "execution_count": 43,
   "metadata": {
    "ExecuteTime": {
     "end_time": "2020-04-02T16:40:19.157741Z",
     "start_time": "2020-04-02T16:40:19.153276Z"
    }
   },
   "outputs": [],
   "source": [
    "### Jesse Steinweg-Woods provide a great elaboration on Recommendation metrics\n",
    "### The following code is borrowed from his work\n",
    "### https://jessesw.com/Rec-System/\n",
    "\n",
    "def interaction_masking(interactions):\n",
    "    '''\n",
    "    This function will \"mask\" (a.k.a \"hide\") 20% of original interactions\n",
    "    Masked items wil be considered not purchased\n",
    "\n",
    "    '''\n",
    "    mask_size = len(interactions.data)\n",
    "    mask = np.random.choice(a=[False, True], size=mask_size, p=[.2, .8])\n",
    "    not_mask = np.invert(mask)\n",
    "\n",
    "    train_interactions = sparse.coo_matrix((interactions.data[mask],\n",
    "                                        (interactions.row[mask],\n",
    "                                         interactions.col[mask])),\n",
    "                                       shape=interactions.shape)\n",
    "\n",
    "    test_interactions = sparse.coo_matrix((interactions.data[not_mask],\n",
    "                                       (interactions.row[not_mask],\n",
    "                                        interactions.col[not_mask])),\n",
    "                                      shape=interactions.shape)\n",
    "\n",
    "    return train_interactions, test_interactions"
   ]
  },
  {
   "cell_type": "code",
   "execution_count": 44,
   "metadata": {
    "ExecuteTime": {
     "end_time": "2020-04-02T16:40:22.393118Z",
     "start_time": "2020-04-02T16:40:22.372321Z"
    }
   },
   "outputs": [
    {
     "data": {
      "text/plain": [
       "array([ True, False,  True, ...,  True,  True, False])"
      ]
     },
     "execution_count": 44,
     "metadata": {},
     "output_type": "execute_result"
    }
   ],
   "source": [
    "mask_size = len(interaction_f.data)\n",
    "\n",
    "### use numpy.random.choice to generate a random True/False array, where False denotes the \"masked\" interactions (hidden)\n",
    "## https://docs.scipy.org/doc/numpy-1.15.0/reference/generated/numpy.random.choice.html\n",
    "np.random.choice(a=[False, True], \n",
    "                 size=mask_size, \n",
    "                 p=[.2, .8])"
   ]
  },
  {
   "cell_type": "code",
   "execution_count": 45,
   "metadata": {
    "ExecuteTime": {
     "end_time": "2020-04-02T16:40:24.604498Z",
     "start_time": "2020-04-02T16:40:24.590114Z"
    }
   },
   "outputs": [],
   "source": [
    "# Create a masked train and test dataset of the interaction features\n",
    "train_interactions, test_interactions = interaction_masking(interaction_f)\n",
    "\n",
    "# Feed the user and item features\n",
    "user_features  = user_f\n",
    "item_features = item_f"
   ]
  },
  {
   "cell_type": "code",
   "execution_count": 46,
   "metadata": {
    "ExecuteTime": {
     "end_time": "2020-04-02T16:40:26.041614Z",
     "start_time": "2020-04-02T16:40:26.037646Z"
    }
   },
   "outputs": [
    {
     "data": {
      "text/plain": [
       "<3899x92 sparse matrix of type '<class 'numpy.float64'>'\n",
       "\twith 160823 stored elements in COOrdinate format>"
      ]
     },
     "execution_count": 46,
     "metadata": {},
     "output_type": "execute_result"
    }
   ],
   "source": [
    "## validate that the interactions are scipy coordinate sparse matrix\n",
    "\n",
    "train_interactions"
   ]
  },
  {
   "cell_type": "code",
   "execution_count": 50,
   "metadata": {
    "ExecuteTime": {
     "end_time": "2020-04-02T16:40:49.635426Z",
     "start_time": "2020-04-02T16:40:33.059936Z"
    }
   },
   "outputs": [
    {
     "ename": "AttributeError",
     "evalue": "module 'tensorflow' has no attribute 'get_default_session'",
     "output_type": "error",
     "traceback": [
      "\u001b[0;31m---------------------------------------------------------------------------\u001b[0m",
      "\u001b[0;31mAttributeError\u001b[0m                            Traceback (most recent call last)",
      "File \u001b[0;32m<timed exec>:30\u001b[0m\n",
      "File \u001b[0;32m~/Library/Python/3.9/lib/python/site-packages/tensorrec/tensorrec.py:531\u001b[0m, in \u001b[0;36mTensorRec.fit\u001b[0;34m(self, interactions, user_features, item_features, epochs, learning_rate, alpha, verbose, user_batch_size, n_sampled_items)\u001b[0m\n\u001b[1;32m    498\u001b[0m \u001b[38;5;250m\u001b[39m\u001b[38;5;124;03m\"\"\"\u001b[39;00m\n\u001b[1;32m    499\u001b[0m \u001b[38;5;124;03mConstructs the TensorRec graph and fits the model.\u001b[39;00m\n\u001b[1;32m    500\u001b[0m \u001b[38;5;124;03m:param interactions: scipy.sparse matrix, tensorflow.data.Dataset, str, or list\u001b[39;00m\n\u001b[0;32m   (...)\u001b[0m\n\u001b[1;32m    527\u001b[0m \u001b[38;5;124;03mself.loss_graph_factory.is_sample_based is True.\u001b[39;00m\n\u001b[1;32m    528\u001b[0m \u001b[38;5;124;03m\"\"\"\u001b[39;00m\n\u001b[1;32m    530\u001b[0m \u001b[38;5;66;03m# Pass-through to fit_partial\u001b[39;00m\n\u001b[0;32m--> 531\u001b[0m \u001b[38;5;28;43mself\u001b[39;49m\u001b[38;5;241;43m.\u001b[39;49m\u001b[43mfit_partial\u001b[49m\u001b[43m(\u001b[49m\u001b[43minteractions\u001b[49m\u001b[38;5;241;43m=\u001b[39;49m\u001b[43minteractions\u001b[49m\u001b[43m,\u001b[49m\n\u001b[1;32m    532\u001b[0m \u001b[43m                 \u001b[49m\u001b[43muser_features\u001b[49m\u001b[38;5;241;43m=\u001b[39;49m\u001b[43muser_features\u001b[49m\u001b[43m,\u001b[49m\n\u001b[1;32m    533\u001b[0m \u001b[43m                 \u001b[49m\u001b[43mitem_features\u001b[49m\u001b[38;5;241;43m=\u001b[39;49m\u001b[43mitem_features\u001b[49m\u001b[43m,\u001b[49m\n\u001b[1;32m    534\u001b[0m \u001b[43m                 \u001b[49m\u001b[43mepochs\u001b[49m\u001b[38;5;241;43m=\u001b[39;49m\u001b[43mepochs\u001b[49m\u001b[43m,\u001b[49m\n\u001b[1;32m    535\u001b[0m \u001b[43m                 \u001b[49m\u001b[43mlearning_rate\u001b[49m\u001b[38;5;241;43m=\u001b[39;49m\u001b[43mlearning_rate\u001b[49m\u001b[43m,\u001b[49m\n\u001b[1;32m    536\u001b[0m \u001b[43m                 \u001b[49m\u001b[43malpha\u001b[49m\u001b[38;5;241;43m=\u001b[39;49m\u001b[43malpha\u001b[49m\u001b[43m,\u001b[49m\n\u001b[1;32m    537\u001b[0m \u001b[43m                 \u001b[49m\u001b[43mverbose\u001b[49m\u001b[38;5;241;43m=\u001b[39;49m\u001b[43mverbose\u001b[49m\u001b[43m,\u001b[49m\n\u001b[1;32m    538\u001b[0m \u001b[43m                 \u001b[49m\u001b[43muser_batch_size\u001b[49m\u001b[38;5;241;43m=\u001b[39;49m\u001b[43muser_batch_size\u001b[49m\u001b[43m,\u001b[49m\n\u001b[1;32m    539\u001b[0m \u001b[43m                 \u001b[49m\u001b[43mn_sampled_items\u001b[49m\u001b[38;5;241;43m=\u001b[39;49m\u001b[43mn_sampled_items\u001b[49m\u001b[43m)\u001b[49m\n",
      "File \u001b[0;32m~/Library/Python/3.9/lib/python/site-packages/tensorrec/tensorrec.py:575\u001b[0m, in \u001b[0;36mTensorRec.fit_partial\u001b[0;34m(self, interactions, user_features, item_features, epochs, learning_rate, alpha, verbose, user_batch_size, n_sampled_items)\u001b[0m\n\u001b[1;32m    541\u001b[0m \u001b[38;5;28;01mdef\u001b[39;00m \u001b[38;5;21mfit_partial\u001b[39m(\u001b[38;5;28mself\u001b[39m, interactions, user_features, item_features, epochs\u001b[38;5;241m=\u001b[39m\u001b[38;5;241m1\u001b[39m, learning_rate\u001b[38;5;241m=\u001b[39m\u001b[38;5;241m0.1\u001b[39m,\n\u001b[1;32m    542\u001b[0m                 alpha\u001b[38;5;241m=\u001b[39m\u001b[38;5;241m0.00001\u001b[39m, verbose\u001b[38;5;241m=\u001b[39m\u001b[38;5;28;01mFalse\u001b[39;00m, user_batch_size\u001b[38;5;241m=\u001b[39m\u001b[38;5;28;01mNone\u001b[39;00m, n_sampled_items\u001b[38;5;241m=\u001b[39m\u001b[38;5;28;01mNone\u001b[39;00m):\n\u001b[1;32m    543\u001b[0m \u001b[38;5;250m    \u001b[39m\u001b[38;5;124;03m\"\"\"\u001b[39;00m\n\u001b[1;32m    544\u001b[0m \u001b[38;5;124;03m    Constructs the TensorRec graph and fits the model.\u001b[39;00m\n\u001b[1;32m    545\u001b[0m \u001b[38;5;124;03m    :param interactions: scipy.sparse matrix, tensorflow.data.Dataset, str, or list\u001b[39;00m\n\u001b[0;32m   (...)\u001b[0m\n\u001b[1;32m    572\u001b[0m \u001b[38;5;124;03m    self.loss_graph_factory.is_sample_based is True.\u001b[39;00m\n\u001b[1;32m    573\u001b[0m \u001b[38;5;124;03m    \"\"\"\u001b[39;00m\n\u001b[0;32m--> 575\u001b[0m     session \u001b[38;5;241m=\u001b[39m \u001b[43mget_session\u001b[49m\u001b[43m(\u001b[49m\u001b[43m)\u001b[49m\n\u001b[1;32m    577\u001b[0m     \u001b[38;5;66;03m# Arg checking\u001b[39;00m\n\u001b[1;32m    578\u001b[0m     \u001b[38;5;28;01mif\u001b[39;00m \u001b[38;5;28mself\u001b[39m\u001b[38;5;241m.\u001b[39mloss_graph_factory\u001b[38;5;241m.\u001b[39mis_sample_based:\n",
      "File \u001b[0;32m~/Library/Python/3.9/lib/python/site-packages/tensorrec/session_management.py:11\u001b[0m, in \u001b[0;36mget_session\u001b[0;34m()\u001b[0m\n\u001b[1;32m      9\u001b[0m \u001b[38;5;66;03m# Build/retrieve the session if it doesn't exist\u001b[39;00m\n\u001b[1;32m     10\u001b[0m \u001b[38;5;28;01mif\u001b[39;00m _session \u001b[38;5;129;01mis\u001b[39;00m \u001b[38;5;28;01mNone\u001b[39;00m:\n\u001b[0;32m---> 11\u001b[0m     \u001b[38;5;28;01mif\u001b[39;00m \u001b[43mtf\u001b[49m\u001b[38;5;241;43m.\u001b[39;49m\u001b[43mget_default_session\u001b[49m() \u001b[38;5;129;01mis\u001b[39;00m \u001b[38;5;129;01mnot\u001b[39;00m \u001b[38;5;28;01mNone\u001b[39;00m:\n\u001b[1;32m     12\u001b[0m         _session \u001b[38;5;241m=\u001b[39m tf\u001b[38;5;241m.\u001b[39mget_default_session()\n\u001b[1;32m     13\u001b[0m     \u001b[38;5;28;01melse\u001b[39;00m:\n",
      "\u001b[0;31mAttributeError\u001b[0m: module 'tensorflow' has no attribute 'get_default_session'"
     ]
    }
   ],
   "source": [
    "%%time\n",
    "### call %%time to see the time it takes to run the model \n",
    "\n",
    "\n",
    "\n",
    "\n",
    "## model parameters\n",
    "\n",
    "epochs = 100 #number of iterations ## play around with this number to achieve an optimal learning curve\n",
    "alpha = 0.01 \n",
    "n_components =  10 ## play around with this number to achieve an optimal learning curve\n",
    "\n",
    "verbose = True\n",
    "learning_rate = 0.01\n",
    "n_sampled_items = int(item_features.shape[0] * .1)\n",
    "biased = False\n",
    " \n",
    "k_val  = 100\n",
    "\n",
    "## Approximation of WMRB: Learning to Rank in a Scalable Batch Training Approach .\n",
    "### Interactions can be any positive values, but magnitude is ignored. Negative interactions are ignored\n",
    "### http://ceur-ws.org/Vol-1905/recsys2017_poster3.pdf\n",
    "#  Options: BalancedWMRBLossGraph,RMSELossGraph, RMSEDenseLossGraph, SeparationDenseLossGraph\n",
    "\n",
    "model = TensorRec(n_components = n_components,                 \n",
    "                  user_repr_graph = DeepRepresentationGraph(),\n",
    "                   item_repr_graph = NormalizedLinearRepresentationGraph(),\n",
    "                   loss_graph = WMRBLossGraph(), \n",
    "                  biased=biased)\n",
    "\n",
    "model.fit(train_interactions, \n",
    "          user_features, \n",
    "          item_features, \n",
    "          epochs=epochs, \n",
    "          verbose=False, \n",
    "          alpha=alpha, \n",
    "          n_sampled_items=n_sampled_items,\n",
    "          learning_rate=learning_rate)\n",
    "\n",
    "\n",
    "# # Get predicted scores for all users and all items\n",
    "# predictions = model.predict(user_features=user_features,\n",
    "#                             item_features=item_features)\n",
    "\n",
    "# Get the predicted rankings (First, second, third, and so forth...) for all users and all items\n",
    "predicted_ranks = model.predict_rank(user_features=user_features,\n",
    "                                     item_features=item_features)"
   ]
  },
  {
   "cell_type": "code",
   "execution_count": 51,
   "metadata": {
    "ExecuteTime": {
     "end_time": "2020-04-02T16:40:51.475667Z",
     "start_time": "2020-04-02T16:40:51.439917Z"
    }
   },
   "outputs": [
    {
     "ename": "NameError",
     "evalue": "name 'predicted_ranks' is not defined",
     "output_type": "error",
     "traceback": [
      "\u001b[0;31m---------------------------------------------------------------------------\u001b[0m",
      "\u001b[0;31mNameError\u001b[0m                                 Traceback (most recent call last)",
      "File \u001b[0;32m<timed exec>:18\u001b[0m\n",
      "\u001b[0;31mNameError\u001b[0m: name 'predicted_ranks' is not defined"
     ]
    }
   ],
   "source": [
    "%%time\n",
    "\n",
    "### TESTING\n",
    "\n",
    "# we use Recall@k\n",
    "# Recall@k: for the average user, what percentage of their test items made it in to the top k in the predicted rankings\n",
    "\n",
    "# in other words, recall@k:\n",
    "# what percentage of the positively interacted items (items purchased) were in the top k results of the prediction?\n",
    "\n",
    "# in simpler words:\n",
    "# Recall@k = (# of recommended items @k that are relevant) / (total # of relevant items)\n",
    "#a.k.a\n",
    "# Recall@k = (# of recommended items @k ) / (total # items purchased)\n",
    "\n",
    "### reference: \n",
    "\n",
    "## optimally, if you have around 400-500 products, you want to achieve recall at k ≈ 200-250\n",
    "## but since we only have 92 products, k=80 may sounds fitting.\n",
    "r_at_k_test = recall_at_k(predicted_ranks, test_interactions, k=80)\n",
    "r_at_k_train = recall_at_k(predicted_ranks, train_interactions, k=80)\n",
    "print(\"Recall at @k: Train: {:.2f} Test: {:.2f}\".format(r_at_k_train.mean(), r_at_k_test.mean()))"
   ]
  },
  {
   "cell_type": "code",
   "execution_count": 49,
   "metadata": {
    "ExecuteTime": {
     "end_time": "2020-04-02T16:40:53.850802Z",
     "start_time": "2020-04-02T16:40:53.847331Z"
    }
   },
   "outputs": [
    {
     "ename": "NameError",
     "evalue": "name 'predicted_ranks' is not defined",
     "output_type": "error",
     "traceback": [
      "\u001b[0;31m---------------------------------------------------------------------------\u001b[0m",
      "\u001b[0;31mNameError\u001b[0m                                 Traceback (most recent call last)",
      "Cell \u001b[0;32mIn[49], line 2\u001b[0m\n\u001b[1;32m      1\u001b[0m \u001b[38;5;66;03m# produce the ranking into a readable table (dataframe it is)\u001b[39;00m\n\u001b[0;32m----> 2\u001b[0m ranks_df \u001b[38;5;241m=\u001b[39m pd\u001b[38;5;241m.\u001b[39mDataFrame(\u001b[43mpredicted_ranks\u001b[49m)\n\u001b[1;32m      3\u001b[0m ranks_df\u001b[38;5;241m.\u001b[39mcolumns \u001b[38;5;241m=\u001b[39m item_category_scaled\u001b[38;5;241m.\u001b[39mindex\n\u001b[1;32m      4\u001b[0m ranks_df\u001b[38;5;241m.\u001b[39mindex \u001b[38;5;241m=\u001b[39m customer_features\u001b[38;5;241m.\u001b[39mindex\n",
      "\u001b[0;31mNameError\u001b[0m: name 'predicted_ranks' is not defined"
     ]
    }
   ],
   "source": [
    "# produce the ranking into a readable table (dataframe it is)\n",
    "ranks_df = pd.DataFrame(predicted_ranks)\n",
    "ranks_df.columns = item_category_scaled.index\n",
    "ranks_df.index = customer_features.index\n",
    "ranks_df = ranks_df.T"
   ]
  },
  {
   "cell_type": "code",
   "execution_count": null,
   "metadata": {
    "ExecuteTime": {
     "end_time": "2020-04-02T16:40:54.438995Z",
     "start_time": "2020-04-02T16:40:54.409697Z"
    }
   },
   "outputs": [
    {
     "data": {
      "text/html": [
       "<div>\n",
       "<style scoped>\n",
       "    .dataframe tbody tr th:only-of-type {\n",
       "        vertical-align: middle;\n",
       "    }\n",
       "\n",
       "    .dataframe tbody tr th {\n",
       "        vertical-align: top;\n",
       "    }\n",
       "\n",
       "    .dataframe thead th {\n",
       "        text-align: right;\n",
       "    }\n",
       "</style>\n",
       "<table border=\"1\" class=\"dataframe\">\n",
       "  <thead>\n",
       "    <tr style=\"text-align: right;\">\n",
       "      <th>Customer ID</th>\n",
       "      <th>266785</th>\n",
       "      <th>266794</th>\n",
       "      <th>266799</th>\n",
       "      <th>266804</th>\n",
       "      <th>266805</th>\n",
       "      <th>266806</th>\n",
       "      <th>266809</th>\n",
       "      <th>266813</th>\n",
       "      <th>266814</th>\n",
       "      <th>266815</th>\n",
       "      <th>...</th>\n",
       "      <th>275245</th>\n",
       "      <th>275246</th>\n",
       "      <th>275247</th>\n",
       "      <th>275249</th>\n",
       "      <th>275250</th>\n",
       "      <th>275252</th>\n",
       "      <th>275255</th>\n",
       "      <th>275257</th>\n",
       "      <th>275261</th>\n",
       "      <th>275265</th>\n",
       "    </tr>\n",
       "    <tr>\n",
       "      <th>Material</th>\n",
       "      <th></th>\n",
       "      <th></th>\n",
       "      <th></th>\n",
       "      <th></th>\n",
       "      <th></th>\n",
       "      <th></th>\n",
       "      <th></th>\n",
       "      <th></th>\n",
       "      <th></th>\n",
       "      <th></th>\n",
       "      <th></th>\n",
       "      <th></th>\n",
       "      <th></th>\n",
       "      <th></th>\n",
       "      <th></th>\n",
       "      <th></th>\n",
       "      <th></th>\n",
       "      <th></th>\n",
       "      <th></th>\n",
       "      <th></th>\n",
       "      <th></th>\n",
       "    </tr>\n",
       "  </thead>\n",
       "  <tbody>\n",
       "    <tr>\n",
       "      <th>1-1-Flagship store</th>\n",
       "      <td>1</td>\n",
       "      <td>3</td>\n",
       "      <td>3</td>\n",
       "      <td>1</td>\n",
       "      <td>3</td>\n",
       "      <td>2</td>\n",
       "      <td>5</td>\n",
       "      <td>4</td>\n",
       "      <td>2</td>\n",
       "      <td>1</td>\n",
       "      <td>...</td>\n",
       "      <td>1</td>\n",
       "      <td>2</td>\n",
       "      <td>3</td>\n",
       "      <td>1</td>\n",
       "      <td>4</td>\n",
       "      <td>1</td>\n",
       "      <td>1</td>\n",
       "      <td>1</td>\n",
       "      <td>3</td>\n",
       "      <td>1</td>\n",
       "    </tr>\n",
       "    <tr>\n",
       "      <th>1-1-MBR</th>\n",
       "      <td>7</td>\n",
       "      <td>4</td>\n",
       "      <td>7</td>\n",
       "      <td>2</td>\n",
       "      <td>4</td>\n",
       "      <td>3</td>\n",
       "      <td>8</td>\n",
       "      <td>5</td>\n",
       "      <td>6</td>\n",
       "      <td>7</td>\n",
       "      <td>...</td>\n",
       "      <td>2</td>\n",
       "      <td>7</td>\n",
       "      <td>4</td>\n",
       "      <td>7</td>\n",
       "      <td>7</td>\n",
       "      <td>2</td>\n",
       "      <td>7</td>\n",
       "      <td>7</td>\n",
       "      <td>4</td>\n",
       "      <td>2</td>\n",
       "    </tr>\n",
       "    <tr>\n",
       "      <th>1-1-TeleShop</th>\n",
       "      <td>8</td>\n",
       "      <td>5</td>\n",
       "      <td>8</td>\n",
       "      <td>9</td>\n",
       "      <td>9</td>\n",
       "      <td>4</td>\n",
       "      <td>9</td>\n",
       "      <td>6</td>\n",
       "      <td>7</td>\n",
       "      <td>10</td>\n",
       "      <td>...</td>\n",
       "      <td>10</td>\n",
       "      <td>8</td>\n",
       "      <td>5</td>\n",
       "      <td>8</td>\n",
       "      <td>10</td>\n",
       "      <td>3</td>\n",
       "      <td>9</td>\n",
       "      <td>8</td>\n",
       "      <td>5</td>\n",
       "      <td>11</td>\n",
       "    </tr>\n",
       "    <tr>\n",
       "      <th>1-1-e-Shop</th>\n",
       "      <td>2</td>\n",
       "      <td>6</td>\n",
       "      <td>4</td>\n",
       "      <td>3</td>\n",
       "      <td>5</td>\n",
       "      <td>5</td>\n",
       "      <td>6</td>\n",
       "      <td>7</td>\n",
       "      <td>3</td>\n",
       "      <td>2</td>\n",
       "      <td>...</td>\n",
       "      <td>3</td>\n",
       "      <td>3</td>\n",
       "      <td>6</td>\n",
       "      <td>2</td>\n",
       "      <td>5</td>\n",
       "      <td>4</td>\n",
       "      <td>2</td>\n",
       "      <td>2</td>\n",
       "      <td>6</td>\n",
       "      <td>3</td>\n",
       "    </tr>\n",
       "    <tr>\n",
       "      <th>1-3-Flagship store</th>\n",
       "      <td>6</td>\n",
       "      <td>7</td>\n",
       "      <td>5</td>\n",
       "      <td>4</td>\n",
       "      <td>6</td>\n",
       "      <td>6</td>\n",
       "      <td>10</td>\n",
       "      <td>8</td>\n",
       "      <td>8</td>\n",
       "      <td>3</td>\n",
       "      <td>...</td>\n",
       "      <td>4</td>\n",
       "      <td>4</td>\n",
       "      <td>7</td>\n",
       "      <td>3</td>\n",
       "      <td>6</td>\n",
       "      <td>5</td>\n",
       "      <td>3</td>\n",
       "      <td>3</td>\n",
       "      <td>7</td>\n",
       "      <td>4</td>\n",
       "    </tr>\n",
       "  </tbody>\n",
       "</table>\n",
       "<p>5 rows × 3899 columns</p>\n",
       "</div>"
      ],
      "text/plain": [
       "Customer ID         266785  266794  266799  266804  266805  266806  266809  \\\n",
       "Material                                                                     \n",
       "1-1-Flagship store       1       3       3       1       3       2       5   \n",
       "1-1-MBR                  7       4       7       2       4       3       8   \n",
       "1-1-TeleShop             8       5       8       9       9       4       9   \n",
       "1-1-e-Shop               2       6       4       3       5       5       6   \n",
       "1-3-Flagship store       6       7       5       4       6       6      10   \n",
       "\n",
       "Customer ID         266813  266814  266815   ...    275245  275246  275247  \\\n",
       "Material                                     ...                             \n",
       "1-1-Flagship store       4       2       1   ...         1       2       3   \n",
       "1-1-MBR                  5       6       7   ...         2       7       4   \n",
       "1-1-TeleShop             6       7      10   ...        10       8       5   \n",
       "1-1-e-Shop               7       3       2   ...         3       3       6   \n",
       "1-3-Flagship store       8       8       3   ...         4       4       7   \n",
       "\n",
       "Customer ID         275249  275250  275252  275255  275257  275261  275265  \n",
       "Material                                                                    \n",
       "1-1-Flagship store       1       4       1       1       1       3       1  \n",
       "1-1-MBR                  7       7       2       7       7       4       2  \n",
       "1-1-TeleShop             8      10       3       9       8       5      11  \n",
       "1-1-e-Shop               2       5       4       2       2       6       3  \n",
       "1-3-Flagship store       3       6       5       3       3       7       4  \n",
       "\n",
       "[5 rows x 3899 columns]"
      ]
     },
     "execution_count": 68,
     "metadata": {},
     "output_type": "execute_result"
    }
   ],
   "source": [
    "ranks_df.head(5)"
   ]
  }
 ],
 "metadata": {
  "kernelspec": {
   "display_name": "base",
   "language": "python",
   "name": "python3"
  },
  "language_info": {
   "codemirror_mode": {
    "name": "ipython",
    "version": 3
   },
   "file_extension": ".py",
   "mimetype": "text/x-python",
   "name": "python",
   "nbconvert_exporter": "python",
   "pygments_lexer": "ipython3",
   "version": "3.9.6"
  }
 },
 "nbformat": 4,
 "nbformat_minor": 2
}
